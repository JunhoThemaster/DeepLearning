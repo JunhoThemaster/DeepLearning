{
 "cells": [
  {
   "cell_type": "code",
   "execution_count": 28,
   "id": "a45491b0",
   "metadata": {},
   "outputs": [],
   "source": [
    "import torch\n",
    "import torch.nn as nn\n",
    "from torchvision import datasets, transforms\n",
    "from torch.utils.data import DataLoader\n",
    "# 높이 너비 채널 형식의 이미지를 텐서화 채널 높이 너비 형식으로 바꾸기위함\n",
    "transform = transforms.Compose([\n",
    "    transforms.ToTensor(),\n",
    "    transforms.Resize((32,32))\n",
    "])"
   ]
  },
  {
   "cell_type": "code",
   "execution_count": 29,
   "id": "fdd6482e",
   "metadata": {},
   "outputs": [],
   "source": [
    "train_dataset = datasets.FashionMNIST(root = '../data',train=True,download=True,transform=transform)\n",
    "test_dataset = datasets.FashionMNIST(root='../data',train=False,download=True,transform=transform)\n",
    "\n",
    "train_loader = DataLoader(train_dataset,batch_size=64,shuffle=True)\n",
    "test_loader = DataLoader(test_dataset,batch_size=64,shuffle=True)"
   ]
  },
  {
   "cell_type": "code",
   "execution_count": 30,
   "id": "14f3d625",
   "metadata": {},
   "outputs": [
    {
     "data": {
      "text/plain": [
       "Text(0.5, 1.0, 'Label : Pullover')"
      ]
     },
     "execution_count": 30,
     "metadata": {},
     "output_type": "execute_result"
    },
    {
     "data": {
      "image/png": "[encoded data removed]",
      "text/plain": [
       "<Figure size 640x480 with 1 Axes>"
      ]
     },
     "metadata": {},
     "output_type": "display_data"
    }
   ],
   "source": [
    "import matplotlib.pyplot as plt\n",
    "import random\n",
    "\n",
    "sample_idx = random.randint(0, len(train_dataset) -1)\n",
    "\n",
    "image, label = train_dataset[sample_idx]\n",
    "image_np = image.permute(1,2,0).numpy()\n",
    "\n",
    "plt.imshow(image_np)\n",
    "plt.title(f'Label : {train_dataset.classes[label]}')"
   ]
  },
  {
   "cell_type": "code",
   "execution_count": 31,
   "id": "8f88b70d",
   "metadata": {},
   "outputs": [
    {
     "data": {
      "text/plain": [
       "torch.Size([1, 32, 32])"
      ]
     },
     "execution_count": 31,
     "metadata": {},
     "output_type": "execute_result"
    }
   ],
   "source": [
    "train_dataset[0][0].shape"
   ]
  },
  {
   "cell_type": "code",
   "execution_count": null,
   "id": "b71378ab",
   "metadata": {},
   "outputs": [],
   "source": [
    "class lenet(nn.Module):\n",
    "\n",
    "    def __init__(self):\n",
    "       super().__init__()\n",
    "\n",
    "       self.net = nn.Sequential(\n",
    "              nn.Conv2d(1,6,kernel_size=5,stride=1,padding=0),# 28x28x6\n",
    "              nn.ReLU(),nn.MaxPool2d(kernel_size=2,stride=2), # 14x14x6\n",
    "              nn.Conv2d(6,16,kernel_size=5,stride=1,padding=0),#8x8x16\n",
    "              nn.ReLU(),nn.MaxPool2d(kernel_size=2,stride=2,padding=0), # 4x4x16\n",
    "              nn.Flatten(),\n",
    "              nn.Linear(400,120),nn.ReLU(),\n",
    "              nn.Linear(120,84),nn.ReLU(),\n",
    "              nn.Linear(84,10)\n",
    "       )\n",
    "\n",
    "    def forward(self,x):\n",
    "           return self.net(x)"
   ]
  },
  {
   "cell_type": "code",
   "execution_count": 33,
   "id": "7b5b68e7",
   "metadata": {},
   "outputs": [],
   "source": [
    "device = torch.device('cuda' if torch.cuda.is_available() else 'cpu')\n",
    "\n",
    "model = lenet().to(device)\n",
    "criterion = nn.CrossEntropyLoss()\n",
    "optimizer = torch.optim.Adam(model.parameters(), lr = 0.001)"
   ]
  },
  {
   "cell_type": "code",
   "execution_count": 34,
   "id": "b4c3f99a",
   "metadata": {},
   "outputs": [
    {
     "name": "stdout",
     "output_type": "stream",
     "text": [
      "   0/5 Epoch | Test Accuracy : 81.75%\n",
      "   1/5 Epoch | Test Accuracy : 86.32%\n",
      "   2/5 Epoch | Test Accuracy : 86.60%\n",
      "   3/5 Epoch | Test Accuracy : 88.46%\n",
      "   4/5 Epoch | Test Accuracy : 89.10%\n",
      "   5/5 Epoch | Test Accuracy : 89.21%\n"
     ]
    }
   ],
   "source": [
    "num_epochs = 5\n",
    "patience = 10\n",
    "best_acc = 0 \n",
    "counter = 0 \n",
    "for epoch in range(num_epochs + 1):\n",
    "    model.train()\n",
    "    \n",
    "    for data, target in train_loader:\n",
    "        data, target = data.to(device), target.to(device)\n",
    "        \n",
    "        output = model(data)\n",
    "        optimizer.zero_grad()\n",
    "        loss = criterion(output, target)\n",
    "        loss.backward()\n",
    "        optimizer.step()\n",
    "    \n",
    "    model.eval()\n",
    "    test_correct = 0\n",
    "    test_total = 0\n",
    "    with torch.no_grad():\n",
    "        for test_data, test_target in test_loader:\n",
    "            test_data, test_target = test_data.to(device), test_target.to(device)\n",
    "            test_output = model(test_data)\n",
    "            pred_target = torch.argmax(test_output, axis = 1)\n",
    "            test_correct += (pred_target == test_target).sum().item()\n",
    "            test_total += test_target.size(0)\n",
    "    acc = test_correct / test_total\n",
    "    print(f'{epoch:4d}/{num_epochs} Epoch | Test Accuracy : {acc * 100:.2f}%')        \n",
    "    \n",
    "        # 베스트 모델 저장 & 조기 종료\n",
    "    if acc > best_acc:\n",
    "        best_acc = acc\n",
    "        torch.save(model.state_dict(), 'best_model.pt')\n",
    "    else:\n",
    "        counter += 1\n",
    "    \n",
    "    if counter >= patience:\n",
    "        print('조기 종료')\n",
    "        break"
   ]
  }
 ],
 "metadata": {
  "kernelspec": {
   "display_name": "torch",
   "language": "python",
   "name": "python3"
  },
  "language_info": {
   "codemirror_mode": {
    "name": "ipython",
    "version": 3
   },
   "file_extension": ".py",
   "mimetype": "text/x-python",
   "name": "python",
   "nbconvert_exporter": "python",
   "pygments_lexer": "ipython3",
   "version": "3.12.9"
  }
 },
 "nbformat": 4,
 "nbformat_minor": 5
}
