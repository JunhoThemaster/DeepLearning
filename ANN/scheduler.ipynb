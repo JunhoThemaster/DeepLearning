{
 "cells": [
  {
   "cell_type": "code",
   "execution_count": 67,
   "id": "79c0dce9",
   "metadata": {},
   "outputs": [
    {
     "name": "stdout",
     "output_type": "stream",
     "text": [
      "(150, 4)\n"
     ]
    }
   ],
   "source": [
    "import torch\n",
    "import torch.nn as nn\n",
    "from torch.utils.data import TensorDataset,DataLoader\n",
    "from sklearn.datasets import load_iris\n",
    "from sklearn.model_selection import train_test_split\n",
    "from sklearn.preprocessing import StandardScaler\n",
    "\n",
    "\n",
    "iris_data = load_iris()\n",
    "\n",
    "print(iris_data.data.shape)"
   ]
  },
  {
   "cell_type": "code",
   "execution_count": 68,
   "id": "991e61a9",
   "metadata": {},
   "outputs": [
    {
     "name": "stdout",
     "output_type": "stream",
     "text": [
      "(150,)\n"
     ]
    }
   ],
   "source": [
    "print(iris_data.target.shape)"
   ]
  },
  {
   "cell_type": "code",
   "execution_count": 69,
   "id": "4c39c8cf",
   "metadata": {},
   "outputs": [],
   "source": [
    "X = iris_data.data\n",
    "\n",
    "y = iris_data.target"
   ]
  },
  {
   "cell_type": "code",
   "execution_count": 70,
   "id": "9b7e359b",
   "metadata": {},
   "outputs": [],
   "source": [
    "X_train,X_test,y_train,y_test = train_test_split(X,y,test_size=0.2)\n"
   ]
  },
  {
   "cell_type": "code",
   "execution_count": 71,
   "id": "470129c5",
   "metadata": {},
   "outputs": [],
   "source": [
    "scaler = StandardScaler()\n",
    "\n",
    "X_train_scaled = scaler.fit_transform(X_train)\n",
    "X_test_scaled = scaler.transform(X_test)"
   ]
  },
  {
   "cell_type": "code",
   "execution_count": 72,
   "id": "94b46a5f",
   "metadata": {},
   "outputs": [],
   "source": [
    "device = torch.device('cuda' if torch.cuda.is_available() else 'cpu')\n",
    "\n",
    "X_train_tensor = torch.tensor(X_train_scaled,dtype=torch.float32).to(device)\n",
    "X_test_tensor = torch.tensor(X_test_scaled,dtype=torch.float32).to(device)\n",
    "\n",
    "# 다중 분류의 loss 함수의 차이 때문에 y를 int 로 바꾼다\n",
    "y_train_tensor = torch.tensor(y_train,dtype=torch.int).to(device)\n",
    "y_train_tensor = y_train_tensor.long()\n",
    "y_test_tensor = torch.tensor(y_test,dtype=torch.int).to(device)\n"
   ]
  },
  {
   "cell_type": "markdown",
   "id": "6f869787",
   "metadata": {},
   "source": [
    "## 배치사이즈 "
   ]
  },
  {
   "cell_type": "code",
   "execution_count": 73,
   "id": "13cc9089",
   "metadata": {},
   "outputs": [],
   "source": [
    "train_dataset = TensorDataset(X_train_tensor,y_train_tensor)\n",
    "train_loader = DataLoader(train_dataset,batch_size=128,shuffle=True)\n"
   ]
  },
  {
   "cell_type": "code",
   "execution_count": null,
   "id": "cee75f43",
   "metadata": {},
   "outputs": [],
   "source": [
    "\n",
    "class Iris_Classifier(nn.Module):\n",
    "\n",
    "    def __init__(self,input_dim,output_dim):\n",
    "        super().__init__()\n",
    "        self.linear1 = nn.Linear(input_dim,32)\n",
    "        self.linear2 = nn.Linear(32,10)\n",
    "        self.output = nn.Linear(10,output_dim)\n",
    "        self.relu = nn.ReLU()\n",
    "        self.log_softmax = nn.LogSoftmax(dim=1)\n",
    "\n",
    "    def forward(self,x):\n",
    "        x = self.relu(self.linear1(x))\n",
    "        x = self.relu(self.linear2(x))\n",
    "        x = self.output(x)\n",
    "        return x\n"
   ]
  },
  {
   "cell_type": "code",
   "execution_count": 75,
   "id": "891d4e92",
   "metadata": {},
   "outputs": [],
   "source": [
    "\n",
    "input_dim = X_train_tensor.shape[1]\n",
    "output_dim = len(torch.unique(y_train_tensor))\n",
    "model = Iris_Classifier(input_dim=input_dim,output_dim=output_dim).to(device)\n"
   ]
  },
  {
   "cell_type": "code",
   "execution_count": 76,
   "id": "b432c144",
   "metadata": {},
   "outputs": [
    {
     "name": "stderr",
     "output_type": "stream",
     "text": [
      "c:\\Users\\main\\miniforge3\\Lib\\site-packages\\torch\\optim\\lr_scheduler.py:28: UserWarning: The verbose parameter is deprecated. Please use get_last_lr() to access the learning rate.\n",
      "  warnings.warn(\"The verbose parameter is deprecated. Please use get_last_lr() \"\n"
     ]
    }
   ],
   "source": [
    "criterion = nn.NLLLoss() # 다중 분류는 NLLoss 와 CrossEntropyLoss 를 주로 사용\n",
    "\n",
    "optimizer = torch.optim.Adam(model.parameters(),lr = 0.01)\n",
    "\n",
    "scheduler = torch.optim.lr_scheduler.ReduceLROnPlateau(\n",
    "            optimizer,mode='max',factor=0.5,patience=3,verbose= True   \n",
    ") # mode : 높을수록 좋을때 , 반대는 min\n",
    "  # factor :  러닝레이트를 몇 % 줄일거냐\n",
    "  # patience : 몇번 참을 것인가.\n",
    "  # verbose :  lr 이 변경 될 때 출력해줘"
   ]
  },
  {
   "cell_type": "code",
   "execution_count": 77,
   "id": "cd29f4e3",
   "metadata": {},
   "outputs": [
    {
     "name": "stdout",
     "output_type": "stream",
     "text": [
      "0 / 50 | Test acc : 20.00%\n",
      "1 / 50 | Test acc : 53.33%\n",
      "2 / 50 | Test acc : 66.67%\n",
      "3 / 50 | Test acc : 76.67%\n",
      "4 / 50 | Test acc : 80.00%\n",
      "5 / 50 | Test acc : 83.33%\n",
      "6 / 50 | Test acc : 86.67%\n",
      "7 / 50 | Test acc : 83.33%\n",
      "8 / 50 | Test acc : 83.33%\n",
      "9 / 50 | Test acc : 86.67%\n",
      "10 / 50 | Test acc : 83.33%\n",
      "11 / 50 | Test acc : 83.33%\n",
      "조기종료\n",
      "최종 정확도 : 0.8666667342185974\n"
     ]
    }
   ],
   "source": [
    "nb_epoch = 50\n",
    "best_acc = 0\n",
    "cnt = 0\n",
    "patience = 5\n",
    "\n",
    "for epoch in range(nb_epoch+1):\n",
    "    # 학습 할거다 선언\n",
    "    model.train()\n",
    "\n",
    "    for batch_x,batch_y in train_loader:\n",
    "        pred = model(batch_x)\n",
    "\n",
    "        loss = criterion(pred,batch_y)\n",
    "\n",
    "        optimizer.zero_grad()\n",
    "\n",
    "        loss.backward()\n",
    "\n",
    "        optimizer.step()\n",
    "\n",
    "    model.eval()\n",
    "\n",
    "    with torch.no_grad():\n",
    "        test_pred = model(X_test_tensor)\n",
    "        pred_trgt = torch.argmax(test_pred,axis=1)\n",
    "        acc = (pred_trgt == y_test_tensor).float().mean().item()\n",
    "\n",
    "        scheduler.step(acc)\n",
    "        print(f'{epoch} / {nb_epoch} | Test acc : {acc * 100:.2f}%')\n",
    "\n",
    "        # 조기종료\n",
    "\n",
    "        if acc > best_acc :\n",
    "            best_acc = acc\n",
    "            cnt = 0\n",
    "            torch.save(model.state_dict(),\"best_iris_model.pt\")\n",
    "        else :\n",
    "            cnt += 1\n",
    "        if cnt >= patience:\n",
    "            print('조기종료')    \n",
    "            break;\n",
    "print(f'최종 정확도 : {best_acc}')"
   ]
  },
  {
   "cell_type": "code",
   "execution_count": 78,
   "id": "03b594c7",
   "metadata": {},
   "outputs": [
    {
     "data": {
      "text/plain": [
       "tensor([[-0.1801, -2.7741, -2.2790],\n",
       "        [-3.4610, -1.3305, -0.3506],\n",
       "        [-2.4552, -0.6600, -0.9231],\n",
       "        [-2.0534, -0.7971, -0.8649],\n",
       "        [-0.1369, -2.8310, -2.6738],\n",
       "        [-2.8662, -1.0945, -0.4969],\n",
       "        [-1.9861, -0.4462, -1.5019],\n",
       "        [-3.6756, -1.2835, -0.3601],\n",
       "        [-1.8132, -0.6395, -1.1734],\n",
       "        [-0.1458, -2.7224, -2.6599],\n",
       "        [-0.1772, -2.5440, -2.4792],\n",
       "        [-0.1454, -3.0074, -2.4542],\n",
       "        [-4.1154, -1.4632, -0.2848],\n",
       "        [-2.5620, -0.6213, -0.9529],\n",
       "        [-2.7949, -1.4129, -0.3632],\n",
       "        [-3.0071, -1.2842, -0.3950],\n",
       "        [-1.5394, -0.5310, -1.6221],\n",
       "        [-0.1810, -2.8109, -2.2501],\n",
       "        [-0.1988, -2.7442, -2.1540],\n",
       "        [-2.2064, -0.8399, -0.7806],\n",
       "        [-3.0485, -1.4517, -0.3307],\n",
       "        [-1.7124, -0.7188, -1.1019],\n",
       "        [-2.6272, -1.1306, -0.5027],\n",
       "        [-2.6466, -0.8571, -0.6837],\n",
       "        [-0.1624, -2.6199, -2.5630],\n",
       "        [-0.1504, -2.7397, -2.5898],\n",
       "        [-0.1788, -2.7995, -2.2740],\n",
       "        [-3.1521, -1.4513, -0.3244],\n",
       "        [-2.3433, -0.7507, -0.8394],\n",
       "        [-2.7248, -0.8972, -0.6410]], device='cuda:0',\n",
       "       grad_fn=<LogSoftmaxBackward0>)"
      ]
     },
     "execution_count": 78,
     "metadata": {},
     "output_type": "execute_result"
    }
   ],
   "source": [
    "test_pred = model(X_test_tensor)\n",
    "\n",
    "test_pred.shape # 데이터의 개수 X target count\n",
    "\n",
    "test_pred"
   ]
  },
  {
   "cell_type": "code",
   "execution_count": 79,
   "id": "93dcc758",
   "metadata": {},
   "outputs": [
    {
     "data": {
      "text/plain": [
       "tensor([0, 2, 1, 1, 0, 2, 1, 2, 1, 0, 0, 0, 2, 1, 2, 2, 1, 0, 0, 2, 2, 1, 2, 2,\n",
       "        0, 0, 0, 2, 1, 2], device='cuda:0')"
      ]
     },
     "execution_count": 79,
     "metadata": {},
     "output_type": "execute_result"
    }
   ],
   "source": [
    "torch.argmax(test_pred,axis=1)"
   ]
  },
  {
   "cell_type": "code",
   "execution_count": 80,
   "id": "1e465b39",
   "metadata": {},
   "outputs": [
    {
     "data": {
      "text/plain": [
       "0.8333333730697632"
      ]
     },
     "execution_count": 80,
     "metadata": {},
     "output_type": "execute_result"
    }
   ],
   "source": [
    "(pred_trgt == y_test_tensor).float().mean().item()"
   ]
  }
 ],
 "metadata": {
  "kernelspec": {
   "display_name": "PyTorch GPU (torch_py310)",
   "language": "python",
   "name": "torch_py310"
  },
  "language_info": {
   "codemirror_mode": {
    "name": "ipython",
    "version": 3
   },
   "file_extension": ".py",
   "mimetype": "text/x-python",
   "name": "python",
   "nbconvert_exporter": "python",
   "pygments_lexer": "ipython3",
   "version": "3.12.10"
  }
 },
 "nbformat": 4,
 "nbformat_minor": 5
}
