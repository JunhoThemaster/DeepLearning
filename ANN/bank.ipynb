{
 "cells": [
  {
   "cell_type": "code",
   "execution_count": null,
   "id": "a99937f1",
   "metadata": {},
   "outputs": [],
   "source": []
  },
  {
   "cell_type": "code",
   "execution_count": 84,
   "id": "69920545",
   "metadata": {},
   "outputs": [
    {
     "name": "stdout",
     "output_type": "stream",
     "text": [
      "cuda\n",
      "GPU 0 이름: NVIDIA GeForce GTX 1660 Ti\n"
     ]
    }
   ],
   "source": [
    "import torch\n",
    "import pandas as pd\n",
    "import numpy as np\n",
    "\n",
    "df = pd.read_csv(\"data/bank-full.csv\",sep=\";\")\n",
    "device = torch.device('cuda' if torch.cuda.is_available() else 'cpu')\n",
    "df.head()\n",
    "print(device)\n",
    "for i in range(torch.cuda.device_count()):\n",
    "    print(f\"GPU {i} 이름:\", torch.cuda.get_device_name(i))\n",
    "\n",
    "# from sklearn.preprocessing import LabelEncoder\n",
    "# x = df.drop('y',axis=1).values\n",
    "# le = LabelEncoder()\n",
    "# y = le.fit_transform(df['y'])\n",
    "\n"
   ]
  },
  {
   "cell_type": "markdown",
   "id": "938ee1ad",
   "metadata": {},
   "source": [
    "## 범주형 변수 인코딩"
   ]
  },
  {
   "cell_type": "code",
   "execution_count": 85,
   "id": "ba81898e",
   "metadata": {},
   "outputs": [],
   "source": [
    "from sklearn.preprocessing import LabelEncoder\n",
    "\n",
    "list1 = ['job','marital','education','default','housing','loan','contact','month','poutcome','y']\n",
    "\n",
    "for i in list1:\n",
    "    le = LabelEncoder()\n",
    "    df[i] = le.fit_transform(df[i])\n",
    "\n",
    "\n",
    "\n",
    "x = df.drop('y',axis=1).values\n",
    "y = df['y'].values.reshape(-1,1)\n",
    "\n",
    "\n"
   ]
  },
  {
   "cell_type": "markdown",
   "id": "c4385c01",
   "metadata": {},
   "source": [
    "## 스케일링 및 텐서화"
   ]
  },
  {
   "cell_type": "code",
   "execution_count": 86,
   "id": "e308ba14",
   "metadata": {},
   "outputs": [],
   "source": [
    "from sklearn.preprocessing import StandardScaler\n",
    "\n",
    "scaler1 = StandardScaler()\n",
    "\n",
    "X_scaled = scaler1.fit_transform(x)\n",
    "\n",
    "\n",
    "X_tensor = torch.tensor(X_scaled,dtype=torch.float32)\n",
    "y_tensor = torch.tensor(y,dtype=torch.float32)"
   ]
  },
  {
   "cell_type": "markdown",
   "id": "be18484f",
   "metadata": {},
   "source": [
    "## 훈련 데이터 학습데이터 나누기"
   ]
  },
  {
   "cell_type": "code",
   "execution_count": 87,
   "id": "dcaa554b",
   "metadata": {},
   "outputs": [],
   "source": [
    "from sklearn.model_selection import train_test_split\n",
    "\n",
    "X_train,X_test,y_train,y_test = train_test_split(X_tensor,y_tensor,test_size=0.2)\n",
    "\n"
   ]
  },
  {
   "cell_type": "code",
   "execution_count": 88,
   "id": "bf5e4420",
   "metadata": {},
   "outputs": [
    {
     "name": "stdout",
     "output_type": "stream",
     "text": [
      "tensor([0., 1.])\n"
     ]
    }
   ],
   "source": [
    "print(y_train.unique())"
   ]
  },
  {
   "cell_type": "markdown",
   "id": "a9495dba",
   "metadata": {},
   "source": [
    "## 배치 설정"
   ]
  },
  {
   "cell_type": "code",
   "execution_count": 89,
   "id": "6ef96356",
   "metadata": {},
   "outputs": [],
   "source": [
    "from torch.utils.data import DataLoader,TensorDataset\n",
    "\n",
    "train_dataset = TensorDataset(X_train,y_train)\n",
    "\n",
    "train_loader = DataLoader(train_dataset, batch_size=64, shuffle=True,num_workers=8)\n"
   ]
  },
  {
   "cell_type": "markdown",
   "id": "dc3cb222",
   "metadata": {},
   "source": [
    "## 모델 설정"
   ]
  },
  {
   "cell_type": "code",
   "execution_count": null,
   "id": "7167845c",
   "metadata": {},
   "outputs": [],
   "source": [
    "import torch.nn as nn\n",
    "\n",
    "class binaryClf(nn.Module):\n",
    "\n",
    "    def __init__(self,input_dim):\n",
    "\n",
    "        super().__init__()\n",
    "        self.linear1 = nn.Linear(input_dim,32)\n",
    "        self.linear2 = nn.Linear(32,16)\n",
    "        self.output = nn.Linear(16,1)\n",
    "        self.relu = nn.ReLU()\n",
    "\n",
    "    def forward(self,x):\n",
    "        x = self.relu(self.linear1(x))\n",
    "        x = self.relu(self.linear2(x))\n",
    "        x = (self.output(x))\n",
    "        return x\n",
    "\n",
    "\n",
    "model = binaryClf(input_dim = X_train.shape[-1]).to(device)\n"
   ]
  },
  {
   "cell_type": "markdown",
   "id": "992ca142",
   "metadata": {},
   "source": [
    "## 손실함수 설정"
   ]
  },
  {
   "cell_type": "code",
   "execution_count": 91,
   "id": "685d9e2c",
   "metadata": {},
   "outputs": [],
   "source": [
    "criterion = nn.BCEWithLogitsLoss()\n",
    "\n",
    "optimizer = torch.optim.Adam(model.parameters(),lr = 0.01)"
   ]
  },
  {
   "cell_type": "code",
   "execution_count": null,
   "id": "72e355bd",
   "metadata": {},
   "outputs": [
    {
     "name": "stdout",
     "output_type": "stream",
     "text": [
      "0/3000 | Test Loss: 0.2282 | Test Acc: 89.42%\n",
      "1/3000 | Test Loss: 0.2344 | Test Acc: 89.86%\n",
      "2/3000 | Test Loss: 0.2271 | Test Acc: 89.68%\n",
      "3/3000 | Test Loss: 0.2306 | Test Acc: 89.73%\n",
      "4/3000 | Test Loss: 0.2277 | Test Acc: 89.77%\n",
      "5/3000 | Test Loss: 0.2237 | Test Acc: 89.91%\n",
      "6/3000 | Test Loss: 0.2258 | Test Acc: 89.59%\n",
      "7/3000 | Test Loss: 0.2241 | Test Acc: 89.61%\n",
      "8/3000 | Test Loss: 0.2301 | Test Acc: 89.51%\n"
     ]
    }
   ],
   "source": [
    "nb_epoch = 3000\n",
    "\n",
    "for epoch in range(nb_epoch):\n",
    "    model.train()\n",
    "    total_loss = 0\n",
    "\n",
    "    for batch_x, batch_y in train_loader:\n",
    "        batch_x, batch_y = batch_x.to(device), batch_y.to(device)\n",
    "        pred = model(batch_x)\n",
    "        loss = criterion(pred, batch_y)\n",
    "\n",
    "        optimizer.zero_grad()\n",
    "        loss.backward()\n",
    "        optimizer.step()\n",
    "\n",
    "        total_loss += loss.item()\n",
    "\n",
    "\n",
    "    # if epoch % 100 == 0:\n",
    "    model.eval()\n",
    "    with torch.no_grad():\n",
    "        test_pred = model(X_test.to(device))\n",
    "        test_loss = criterion(test_pred, y_test.to(device))\n",
    "        acc = ((test_pred >= 0.5).float() == y_test.to(device)).float().mean()\n",
    "        print(f\"{epoch}/{nb_epoch} | Test Loss: {test_loss.item():.4f} | Test Acc: {acc.item() * 100:.2f}%\")\n",
    "        \n",
    "\n"
   ]
  }
 ],
 "metadata": {
  "kernelspec": {
   "display_name": "PyTorch GPU (torch_py310)",
   "language": "python",
   "name": "torch_py310"
  },
  "language_info": {
   "codemirror_mode": {
    "name": "ipython",
    "version": 3
   },
   "file_extension": ".py",
   "mimetype": "text/x-python",
   "name": "python",
   "nbconvert_exporter": "python",
   "pygments_lexer": "ipython3",
   "version": "3.12.10"
  }
 },
 "nbformat": 4,
 "nbformat_minor": 5
}
