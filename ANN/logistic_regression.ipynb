{
 "cells": [
  {
   "cell_type": "markdown",
   "id": "90e7b123",
   "metadata": {},
   "source": [
    "- Basic UI animations\n",
    " - typing effect"
   ]
  },
  {
   "cell_type": "markdown",
   "id": "a8f8fa01",
   "metadata": {},
   "source": [
    "# Activation function\n",
    "\n",
    "## 로지스틱 회귀\n",
    " "
   ]
  },
  {
   "cell_type": "markdown",
   "id": "99cfc00b",
   "metadata": {},
   "source": [
    "### 회귀"
   ]
  },
  {
   "cell_type": "code",
   "execution_count": 146,
   "id": "2e070e3e",
   "metadata": {},
   "outputs": [
    {
     "name": "stdout",
     "output_type": "stream",
     "text": [
      "2.2.6\n"
     ]
    }
   ],
   "source": [
    "import numpy as np\n",
    "print(np.__version__)"
   ]
  },
  {
   "cell_type": "code",
   "execution_count": 147,
   "id": "1610926b",
   "metadata": {},
   "outputs": [
    {
     "name": "stdout",
     "output_type": "stream",
     "text": [
      "2.2.6\n"
     ]
    }
   ],
   "source": [
    "import numpy as np\n",
    "print(np.__version__)\n"
   ]
  },
  {
   "cell_type": "code",
   "execution_count": 148,
   "id": "164bc1b8",
   "metadata": {},
   "outputs": [],
   "source": [
    "from sklearn.datasets import load_diabetes\n",
    "import torch\n",
    "import numpy as np\n",
    "from sklearn.model_selection import train_test_split\n",
    "datasets = load_diabetes()\n",
    "\n",
    "datasets.keys()\n",
    "x = datasets['data']\n",
    "y = datasets['target']"
   ]
  },
  {
   "cell_type": "code",
   "execution_count": null,
   "id": "de4294c3",
   "metadata": {},
   "outputs": [
    {
     "data": {
      "text/plain": [
       "array([[ 0.03807591,  0.05068012,  0.06169621, ..., -0.00259226,\n",
       "         0.01990749, -0.01764613],\n",
       "       [-0.00188202, -0.04464164, -0.05147406, ..., -0.03949338,\n",
       "        -0.06833155, -0.09220405],\n",
       "       [ 0.08529891,  0.05068012,  0.04445121, ..., -0.00259226,\n",
       "         0.00286131, -0.02593034],\n",
       "       ...,\n",
       "       [ 0.04170844,  0.05068012, -0.01590626, ..., -0.01107952,\n",
       "        -0.04688253,  0.01549073],\n",
       "       [-0.04547248, -0.04464164,  0.03906215, ...,  0.02655962,\n",
       "         0.04452873, -0.02593034],\n",
       "       [-0.04547248, -0.04464164, -0.0730303 , ..., -0.03949338,\n",
       "        -0.00422151,  0.00306441]], shape=(442, 10))"
      ]
     },
     "execution_count": 155,
     "metadata": {},
     "output_type": "execute_result"
    }
   ],
   "source": [
    "y"
   ]
  },
  {
   "cell_type": "code",
   "execution_count": 149,
   "id": "2593da0b",
   "metadata": {},
   "outputs": [
    {
     "data": {
      "text/plain": [
       "['age', 'sex', 'bmi', 'bp', 's1', 's2', 's3', 's4', 's5', 's6']"
      ]
     },
     "execution_count": 149,
     "metadata": {},
     "output_type": "execute_result"
    }
   ],
   "source": [
    "datasets.feature_names"
   ]
  },
  {
   "cell_type": "code",
   "execution_count": 150,
   "id": "6931d1c0",
   "metadata": {},
   "outputs": [
    {
     "data": {
      "text/plain": [
       "numpy.ndarray"
      ]
     },
     "execution_count": 150,
     "metadata": {},
     "output_type": "execute_result"
    }
   ],
   "source": [
    "type(x)"
   ]
  },
  {
   "cell_type": "code",
   "execution_count": 151,
   "id": "7aaf097e",
   "metadata": {},
   "outputs": [],
   "source": [
    "# train test split\n",
    "\n",
    "X_train, X_test, y_train, y_test = train_test_split(\n",
    "    x, y, test_size=0.3, random_state=42\n",
    ")\n",
    "X_train = torch.tensor(X_train, dtype=torch.float32)\n",
    "X_test = torch.tensor(X_test, dtype=torch.float32)\n",
    "y_train = torch.tensor(y_train, dtype=torch.float32)\n",
    "y_test = torch.tensor(y_test, dtype=torch.float32)\n",
    "\n",
    "y_train = y_train.view(-1, 1) "
   ]
  },
  {
   "cell_type": "code",
   "execution_count": 152,
   "id": "ebd8705e",
   "metadata": {},
   "outputs": [],
   "source": [
    "import torch.nn as nn\n",
    "\n",
    "class RegressionModel(nn.Module):\n",
    "\n",
    "    def __init__(self,input_dim):\n",
    "\n",
    "        super().__init__()\n",
    "\n",
    "        # layer 구성\n",
    "        self.model = nn.Sequential(\n",
    "            nn.Linear(input_dim,128) # input_dim -> 64\n",
    "            ,nn.ReLU(),\n",
    "            nn.Linear(128,64), # 64 -> 32\n",
    "            nn.ReLU(),\n",
    "            nn.Linear(64,32),\n",
    "            nn.ReLU(),\n",
    "            nn.Linear(32,1),\n",
    "        )\n",
    "        # self.linear = nn.Linear(input_dim,1)\n",
    "\n",
    "    def forward(self,x):\n",
    "        return self.model(x)\n",
    "    \n",
    "\n",
    "input_dim = len(x[0])\n",
    "\n",
    "model = RegressionModel(input_dim= input_dim)\n",
    "\n"
   ]
  },
  {
   "cell_type": "code",
   "execution_count": 153,
   "id": "36397772",
   "metadata": {},
   "outputs": [],
   "source": [
    "criterion = nn.MSELoss()\n",
    "optimizer = torch.optim.Adam(model.parameters(),lr = 0.01)"
   ]
  },
  {
   "cell_type": "code",
   "execution_count": null,
   "id": "b7287abd",
   "metadata": {},
   "outputs": [
    {
     "name": "stdout",
     "output_type": "stream",
     "text": [
      "0/3000 epochs | loss : 29838.523438\n",
      "100/3000 epochs | loss : 2991.139648\n",
      "200/3000 epochs | loss : 2907.127441\n",
      "300/3000 epochs | loss : 2830.604248\n",
      "400/3000 epochs | loss : 2658.156494\n",
      "500/3000 epochs | loss : 2385.600586\n",
      "600/3000 epochs | loss : 2227.433838\n",
      "700/3000 epochs | loss : 2071.204346\n",
      "800/3000 epochs | loss : 1904.398682\n",
      "900/3000 epochs | loss : 1761.690552\n",
      "1000/3000 epochs | loss : 1666.447876\n",
      "1100/3000 epochs | loss : 1603.353516\n",
      "1200/3000 epochs | loss : 1547.243530\n",
      "1300/3000 epochs | loss : 1491.429077\n",
      "1400/3000 epochs | loss : 1375.954224\n",
      "1500/3000 epochs | loss : 1244.672241\n",
      "1600/3000 epochs | loss : 1163.721680\n",
      "1700/3000 epochs | loss : 1074.784790\n",
      "1800/3000 epochs | loss : 1022.182922\n",
      "1900/3000 epochs | loss : 996.837402\n",
      "2000/3000 epochs | loss : 929.251648\n",
      "2100/3000 epochs | loss : 899.656982\n",
      "2200/3000 epochs | loss : 847.087708\n",
      "2300/3000 epochs | loss : 787.899048\n",
      "2400/3000 epochs | loss : 761.853760\n",
      "2500/3000 epochs | loss : 731.035583\n",
      "2600/3000 epochs | loss : 682.416138\n",
      "2700/3000 epochs | loss : 696.299377\n",
      "2800/3000 epochs | loss : 665.332092\n",
      "2900/3000 epochs | loss : 609.100098\n"
     ]
    }
   ],
   "source": [
    "nb_epochs = 3000\n",
    "\n",
    "for epoch in range(nb_epochs):\n",
    "\n",
    "    pred = model(X_train)\n",
    "\n",
    "    loss = criterion(pred,y_train)\n",
    "\n",
    "    optimizer.zero_grad()\n",
    "\n",
    "    loss.backward()\n",
    "    \n",
    "    optimizer.step()\n",
    "\n",
    "    if epoch % 100 == 0 :\n",
    "        print(f\"{epoch}/{nb_epochs} epochs | loss : {loss.item():.6f}\")\n",
    "\n",
    "\n"
   ]
  }
 ],
 "metadata": {
  "kernelspec": {
   "display_name": "PyTorch GPU (torch_py310)",
   "language": "python",
   "name": "torch_py310"
  },
  "language_info": {
   "codemirror_mode": {
    "name": "ipython",
    "version": 3
   },
   "file_extension": ".py",
   "mimetype": "text/x-python",
   "name": "python",
   "nbconvert_exporter": "python",
   "pygments_lexer": "ipython3",
   "version": "3.12.10"
  }
 },
 "nbformat": 4,
 "nbformat_minor": 5
}
