{
 "cells": [
  {
   "cell_type": "code",
   "execution_count": 118,
   "id": "d0254094",
   "metadata": {},
   "outputs": [
    {
     "data": {
      "text/plain": [
       "dict_keys(['data', 'target', 'frame', 'target_names', 'DESCR', 'feature_names'])"
      ]
     },
     "execution_count": 118,
     "metadata": {},
     "output_type": "execute_result"
    }
   ],
   "source": [
    "import torch\n",
    "import torch.nn as nn\n",
    "from torch.utils.data import TensorDataset,DataLoader\n",
    "from sklearn.datasets import load_iris,load_wine\n",
    "from sklearn.model_selection import train_test_split\n",
    "from sklearn.preprocessing import StandardScaler\n",
    "\n",
    "\n",
    "wine = load_wine()\n",
    "\n",
    "\n",
    "wine.keys()"
   ]
  },
  {
   "cell_type": "code",
   "execution_count": 119,
   "id": "b44d5d28",
   "metadata": {},
   "outputs": [],
   "source": [
    "X = wine.data\n",
    "\n",
    "y = wine.target\n"
   ]
  },
  {
   "cell_type": "code",
   "execution_count": 120,
   "id": "85d4cbfe",
   "metadata": {},
   "outputs": [],
   "source": [
    "X_train,X_test,y_train,y_test = train_test_split(X,y)\n",
    "\n"
   ]
  },
  {
   "cell_type": "code",
   "execution_count": 121,
   "id": "cce68b05",
   "metadata": {},
   "outputs": [],
   "source": [
    "scaler = StandardScaler()\n",
    "\n",
    "X_train_scaled = scaler.fit_transform(X_train)\n",
    "X_test_scaled = scaler.transform(X_test)\n"
   ]
  },
  {
   "cell_type": "code",
   "execution_count": 122,
   "id": "0d95d12b",
   "metadata": {},
   "outputs": [],
   "source": [
    "device = torch.device('cuda' if torch.cuda.is_available() else 'cpu')\n",
    "\n",
    "X_train_tensor = torch.tensor(X_train_scaled,dtype=torch.float32).to(device)\n",
    "X_test_tensor = torch.tensor(X_test_scaled,dtype=torch.float32).to(device)\n",
    "\n",
    "y_train_tensor = torch.tensor(y_train,dtype=torch.long).to(device)\n",
    "y_test_tensor = torch.tensor(y_test,dtype=torch.int).to(device)\n",
    "\n"
   ]
  },
  {
   "cell_type": "code",
   "execution_count": 123,
   "id": "bb96d582",
   "metadata": {},
   "outputs": [],
   "source": [
    "\n",
    "train_dataset = TensorDataset(X_train_tensor,y_train_tensor)\n",
    "train_loader = DataLoader(train_dataset,batch_size=32,shuffle=True)"
   ]
  },
  {
   "cell_type": "code",
   "execution_count": 124,
   "id": "2f4fe228",
   "metadata": {},
   "outputs": [],
   "source": [
    "class mlt_clf(nn.Module):\n",
    "\n",
    "    def __init__(self,input_dim,output_dim):\n",
    "            super().__init__()\n",
    "            self.linear1 = nn.Linear(input_dim,32)\n",
    "            self.linear2 = nn.Linear(32,10)\n",
    "            self.output = nn.Linear(10,output_dim)\n",
    "            self.relu = nn.ReLU()\n",
    "            self.log_softmax = nn.LogSoftmax(dim=1)\n",
    "\n",
    "    def forward(self,x):\n",
    "        x = self.relu(self.linear1(x))\n",
    "        x = self.relu(self.linear2(x))\n",
    "        x = self.output(x)\n",
    "\n",
    "        return x\n"
   ]
  },
  {
   "cell_type": "code",
   "execution_count": 125,
   "id": "d434887d",
   "metadata": {},
   "outputs": [],
   "source": [
    "input_dim = X_train_tensor.shape[1]\n",
    "output_dim = len(torch.unique(y_train_tensor))\n",
    "model = mlt_clf(input_dim=input_dim,output_dim=output_dim).to(device)"
   ]
  },
  {
   "cell_type": "code",
   "execution_count": 126,
   "id": "f0fe0fe1",
   "metadata": {},
   "outputs": [
    {
     "name": "stderr",
     "output_type": "stream",
     "text": [
      "c:\\Users\\main\\miniforge3\\Lib\\site-packages\\torch\\optim\\lr_scheduler.py:28: UserWarning: The verbose parameter is deprecated. Please use get_last_lr() to access the learning rate.\n",
      "  warnings.warn(\"The verbose parameter is deprecated. Please use get_last_lr() \"\n"
     ]
    }
   ],
   "source": [
    "criterion = nn.CrossEntropyLoss()\n",
    "optimizer = torch.optim.Adam(model.parameters(),lr = 0.01)\n",
    "\n",
    "scheduler = torch.optim.lr_scheduler.ReduceLROnPlateau(\n",
    "            optimizer,mode='max',factor=0.5,patience=3,verbose= True   \n",
    ")"
   ]
  },
  {
   "cell_type": "code",
   "execution_count": 127,
   "id": "152ce86f",
   "metadata": {},
   "outputs": [
    {
     "name": "stdout",
     "output_type": "stream",
     "text": [
      "0 / 50 | Test acc : 55.56%\n",
      "1 / 50 | Test acc : 55.56%\n",
      "2 / 50 | Test acc : 77.78%\n",
      "3 / 50 | Test acc : 93.33%\n",
      "4 / 50 | Test acc : 93.33%\n",
      "5 / 50 | Test acc : 93.33%\n",
      "6 / 50 | Test acc : 95.56%\n",
      "7 / 50 | Test acc : 95.56%\n",
      "8 / 50 | Test acc : 95.56%\n",
      "9 / 50 | Test acc : 95.56%\n",
      "10 / 50 | Test acc : 95.56%\n",
      "11 / 50 | Test acc : 95.56%\n",
      "조기종료\n",
      "최종 정확도 : 0.9555555582046509\n"
     ]
    }
   ],
   "source": [
    "nb_epoch = 50\n",
    "best_acc = 0\n",
    "cnt = 0\n",
    "patience = 5\n",
    "\n",
    "for epoch in range(nb_epoch+1):\n",
    "    # 학습 할거다 선언\n",
    "    model.train()\n",
    "\n",
    "    for batch_x,batch_y in train_loader:\n",
    "        pred = model(batch_x)\n",
    "\n",
    "        loss = criterion(pred,batch_y)\n",
    "\n",
    "        optimizer.zero_grad()\n",
    "\n",
    "        loss.backward()\n",
    "\n",
    "        optimizer.step()\n",
    "\n",
    "    model.eval()\n",
    "\n",
    "    with torch.no_grad():\n",
    "        test_pred = model(X_test_tensor)\n",
    "        pred_trgt = torch.argmax(test_pred,axis=1)\n",
    "        acc = (pred_trgt == y_test_tensor).float().mean().item()\n",
    "\n",
    "        scheduler.step(acc)\n",
    "        print(f'{epoch} / {nb_epoch} | Test acc : {acc * 100:.2f}%')\n",
    "\n",
    "        # 조기종료\n",
    "\n",
    "        if acc > best_acc :\n",
    "            best_acc = acc\n",
    "            cnt = 0\n",
    "            torch.save(model.state_dict(),\"best_wine_model.pt\")\n",
    "        else :\n",
    "            cnt += 1\n",
    "        if cnt >= patience:\n",
    "            print('조기종료')    \n",
    "            break;\n",
    "print(f'최종 정확도 : {best_acc}')"
   ]
  },
  {
   "cell_type": "code",
   "execution_count": 130,
   "id": "2246b86c",
   "metadata": {},
   "outputs": [
    {
     "data": {
      "text/plain": [
       "<matplotlib.animation.FuncAnimation at 0x200e38240b0>"
      ]
     },
     "execution_count": 130,
     "metadata": {},
     "output_type": "execute_result"
    }
   ],
   "source": [
    "import matplotlib.pyplot as plt\n",
    "import matplotlib.animation as animation\n",
    "import numpy as np\n",
    "# 손실 함수와 gradient 정의\n",
    "def loss(w):\n",
    "    return w[0]**2 + w[1]**2\n",
    "\n",
    "def gradient(w):\n",
    "    return np.array([2*w[0], 2*w[1]])\n",
    "\n",
    "# 초기 위치와 설정\n",
    "w = np.array([2.5, 2.5])\n",
    "lr = 0.1  # 학습률\n",
    "history = [w.copy()]\n",
    "\n",
    "# 경사하강법 30회 반복\n",
    "for _ in range(30):\n",
    "    grad = gradient(w)\n",
    "    w = w - lr * grad\n",
    "    history.append(w.copy())\n",
    "\n",
    "history = np.array(history)\n",
    "\n",
    "# 손실 함수 등고선\n",
    "w1 = np.linspace(-3, 3, 100)\n",
    "w2 = np.linspace(-3, 3, 100)\n",
    "W1, W2 = np.meshgrid(w1, w2)\n",
    "Loss = W1**2 + W2**2\n",
    "\n",
    "# 애니메이션 그리기\n",
    "fig, ax = plt.subplots(figsize=(8, 6))\n",
    "contour = ax.contourf(W1, W2, Loss, levels=50, cmap='viridis')\n",
    "plt.colorbar(contour, ax=ax, label='Loss')\n",
    "ax.set_title(\"Gradient Descent Animation\")\n",
    "ax.set_xlabel(\"W1\")\n",
    "ax.set_ylabel(\"W2\")\n",
    "\n",
    "point, = ax.plot([], [], 'ro')         # 현재 위치\n",
    "path, = ax.plot([], [], 'w--', alpha=0.7)  # 이동 경로\n",
    "\n",
    "def init():\n",
    "    point.set_data([], [])\n",
    "    path.set_data([], [])\n",
    "    return point, path\n",
    "\n",
    "def update(frame):\n",
    "    point.set_data(history[frame][0], history[frame][1])\n",
    "    path.set_data(history[:frame+1, 0], history[:frame+1, 1])\n",
    "    return point, path\n",
    "\n",
    "ani = animation.FuncAnimation(fig, update, frames=len(history), init_func=init,\n",
    "                              interval=200, blit=True)\n",
    "\n",
    "plt.close()  # 애니메이션만 보여주기\n",
    "ani\n"
   ]
  },
  {
   "cell_type": "code",
   "execution_count": null,
   "id": "0a40e293",
   "metadata": {},
   "outputs": [
    {
     "name": "stderr",
     "output_type": "stream",
     "text": [
      "C:\\Users\\main\\AppData\\Local\\Temp\\ipykernel_14020\\1515570582.py:39: UserWarning: Glyph 54596 (\\N{HANGUL SYLLABLE PIL}) missing from font(s) DejaVu Sans.\n",
      "  ani = animation.FuncAnimation(fig, update, frames=len(positions), interval=500, blit=True)\n",
      "C:\\Users\\main\\AppData\\Local\\Temp\\ipykernel_14020\\1515570582.py:39: UserWarning: Glyph 53552 (\\N{HANGUL SYLLABLE TEO}) missing from font(s) DejaVu Sans.\n",
      "  ani = animation.FuncAnimation(fig, update, frames=len(positions), interval=500, blit=True)\n",
      "C:\\Users\\main\\AppData\\Local\\Temp\\ipykernel_14020\\1515570582.py:39: UserWarning: Glyph 44032 (\\N{HANGUL SYLLABLE GA}) missing from font(s) DejaVu Sans.\n",
      "  ani = animation.FuncAnimation(fig, update, frames=len(positions), interval=500, blit=True)\n",
      "C:\\Users\\main\\AppData\\Local\\Temp\\ipykernel_14020\\1515570582.py:39: UserWarning: Glyph 51077 (\\N{HANGUL SYLLABLE IB}) missing from font(s) DejaVu Sans.\n",
      "  ani = animation.FuncAnimation(fig, update, frames=len(positions), interval=500, blit=True)\n",
      "C:\\Users\\main\\AppData\\Local\\Temp\\ipykernel_14020\\1515570582.py:39: UserWarning: Glyph 47141 (\\N{HANGUL SYLLABLE RYEOG}) missing from font(s) DejaVu Sans.\n",
      "  ani = animation.FuncAnimation(fig, update, frames=len(positions), interval=500, blit=True)\n",
      "C:\\Users\\main\\AppData\\Local\\Temp\\ipykernel_14020\\1515570582.py:39: UserWarning: Glyph 51012 (\\N{HANGUL SYLLABLE EUL}) missing from font(s) DejaVu Sans.\n",
      "  ani = animation.FuncAnimation(fig, update, frames=len(positions), interval=500, blit=True)\n",
      "C:\\Users\\main\\AppData\\Local\\Temp\\ipykernel_14020\\1515570582.py:39: UserWarning: Glyph 49828 (\\N{HANGUL SYLLABLE SEU}) missing from font(s) DejaVu Sans.\n",
      "  ani = animation.FuncAnimation(fig, update, frames=len(positions), interval=500, blit=True)\n",
      "C:\\Users\\main\\AppData\\Local\\Temp\\ipykernel_14020\\1515570582.py:39: UserWarning: Glyph 52884 (\\N{HANGUL SYLLABLE KAEN}) missing from font(s) DejaVu Sans.\n",
      "  ani = animation.FuncAnimation(fig, update, frames=len(positions), interval=500, blit=True)\n",
      "C:\\Users\\main\\AppData\\Local\\Temp\\ipykernel_14020\\1515570582.py:39: UserWarning: Glyph 54616 (\\N{HANGUL SYLLABLE HA}) missing from font(s) DejaVu Sans.\n",
      "  ani = animation.FuncAnimation(fig, update, frames=len(positions), interval=500, blit=True)\n",
      "C:\\Users\\main\\AppData\\Local\\Temp\\ipykernel_14020\\1515570582.py:39: UserWarning: Glyph 45716 (\\N{HANGUL SYLLABLE NEUN}) missing from font(s) DejaVu Sans.\n",
      "  ani = animation.FuncAnimation(fig, update, frames=len(positions), interval=500, blit=True)\n",
      "C:\\Users\\main\\AppData\\Local\\Temp\\ipykernel_14020\\1515570582.py:39: UserWarning: Glyph 44284 (\\N{HANGUL SYLLABLE GWA}) missing from font(s) DejaVu Sans.\n",
      "  ani = animation.FuncAnimation(fig, update, frames=len(positions), interval=500, blit=True)\n",
      "C:\\Users\\main\\AppData\\Local\\Temp\\ipykernel_14020\\1515570582.py:39: UserWarning: Glyph 51221 (\\N{HANGUL SYLLABLE JEONG}) missing from font(s) DejaVu Sans.\n",
      "  ani = animation.FuncAnimation(fig, update, frames=len(positions), interval=500, blit=True)\n",
      "MovieWriter ffmpeg unavailable; using Pillow instead.\n"
     ]
    },
    {
     "ename": "FileNotFoundError",
     "evalue": "[WinError 3] 지정된 경로를 찾을 수 없습니다: '\\\\mnt\\\\data'",
     "output_type": "error",
     "traceback": [
      "\u001b[31m---------------------------------------------------------------------------\u001b[39m",
      "\u001b[31mFileNotFoundError\u001b[39m                         Traceback (most recent call last)",
      "\u001b[36mCell\u001b[39m\u001b[36m \u001b[39m\u001b[32mIn[131]\u001b[39m\u001b[32m, line 43\u001b[39m\n\u001b[32m     41\u001b[39m \u001b[38;5;66;03m# mp4로 저장 후 출력\u001b[39;00m\n\u001b[32m     42\u001b[39m video_path = \u001b[33m\"\u001b[39m\u001b[33m/mnt/data/filter_stride2_animation.mp4\u001b[39m\u001b[33m\"\u001b[39m\n\u001b[32m---> \u001b[39m\u001b[32m43\u001b[39m \u001b[43mani\u001b[49m\u001b[43m.\u001b[49m\u001b[43msave\u001b[49m\u001b[43m(\u001b[49m\u001b[43mvideo_path\u001b[49m\u001b[43m,\u001b[49m\u001b[43m \u001b[49m\u001b[43mwriter\u001b[49m\u001b[43m=\u001b[49m\u001b[33;43m'\u001b[39;49m\u001b[33;43mffmpeg\u001b[39;49m\u001b[33;43m'\u001b[39;49m\u001b[43m,\u001b[49m\u001b[43m \u001b[49m\u001b[43mfps\u001b[49m\u001b[43m=\u001b[49m\u001b[32;43m2\u001b[39;49m\u001b[43m)\u001b[49m\n\u001b[32m     44\u001b[39m plt.close()\n\u001b[32m     46\u001b[39m \u001b[38;5;28;01mfrom\u001b[39;00m\u001b[38;5;250m \u001b[39m\u001b[34;01mIPython\u001b[39;00m\u001b[34;01m.\u001b[39;00m\u001b[34;01mdisplay\u001b[39;00m\u001b[38;5;250m \u001b[39m\u001b[38;5;28;01mimport\u001b[39;00m Video\n",
      "\u001b[36mFile \u001b[39m\u001b[32mc:\\Users\\main\\miniforge3\\Lib\\site-packages\\matplotlib\\animation.py:1098\u001b[39m, in \u001b[36mAnimation.save\u001b[39m\u001b[34m(self, filename, writer, fps, dpi, codec, bitrate, extra_args, metadata, extra_anim, savefig_kwargs, progress_callback)\u001b[39m\n\u001b[32m   1093\u001b[39m     \u001b[38;5;28;01mreturn\u001b[39;00m a * np.array([r, g, b]) + \u001b[32m1\u001b[39m - a\n\u001b[32m   1095\u001b[39m \u001b[38;5;66;03m# canvas._is_saving = True makes the draw_event animation-starting\u001b[39;00m\n\u001b[32m   1096\u001b[39m \u001b[38;5;66;03m# callback a no-op; canvas.manager = None prevents resizing the GUI\u001b[39;00m\n\u001b[32m   1097\u001b[39m \u001b[38;5;66;03m# widget (both are likewise done in savefig()).\u001b[39;00m\n\u001b[32m-> \u001b[39m\u001b[32m1098\u001b[39m \u001b[43m\u001b[49m\u001b[38;5;28;43;01mwith\u001b[39;49;00m\u001b[43m \u001b[49m\u001b[43m(\u001b[49m\u001b[43mwriter\u001b[49m\u001b[43m.\u001b[49m\u001b[43msaving\u001b[49m\u001b[43m(\u001b[49m\u001b[38;5;28;43mself\u001b[39;49m\u001b[43m.\u001b[49m\u001b[43m_fig\u001b[49m\u001b[43m,\u001b[49m\u001b[43m \u001b[49m\u001b[43mfilename\u001b[49m\u001b[43m,\u001b[49m\u001b[43m \u001b[49m\u001b[43mdpi\u001b[49m\u001b[43m)\u001b[49m\u001b[43m,\u001b[49m\n\u001b[32m   1099\u001b[39m \u001b[43m      \u001b[49m\u001b[43mcbook\u001b[49m\u001b[43m.\u001b[49m\u001b[43m_setattr_cm\u001b[49m\u001b[43m(\u001b[49m\u001b[38;5;28;43mself\u001b[39;49m\u001b[43m.\u001b[49m\u001b[43m_fig\u001b[49m\u001b[43m.\u001b[49m\u001b[43mcanvas\u001b[49m\u001b[43m,\u001b[49m\u001b[43m \u001b[49m\u001b[43m_is_saving\u001b[49m\u001b[43m=\u001b[49m\u001b[38;5;28;43;01mTrue\u001b[39;49;00m\u001b[43m,\u001b[49m\u001b[43m \u001b[49m\u001b[43mmanager\u001b[49m\u001b[43m=\u001b[49m\u001b[38;5;28;43;01mNone\u001b[39;49;00m\u001b[43m)\u001b[49m\u001b[43m)\u001b[49m\u001b[43m:\u001b[49m\n\u001b[32m   1100\u001b[39m \u001b[43m    \u001b[49m\u001b[38;5;28;43;01mif\u001b[39;49;00m\u001b[43m \u001b[49m\u001b[38;5;129;43;01mnot\u001b[39;49;00m\u001b[43m \u001b[49m\u001b[43mwriter\u001b[49m\u001b[43m.\u001b[49m\u001b[43m_supports_transparency\u001b[49m\u001b[43m(\u001b[49m\u001b[43m)\u001b[49m\u001b[43m:\u001b[49m\n\u001b[32m   1101\u001b[39m \u001b[43m        \u001b[49m\u001b[43mfacecolor\u001b[49m\u001b[43m \u001b[49m\u001b[43m=\u001b[49m\u001b[43m \u001b[49m\u001b[43msavefig_kwargs\u001b[49m\u001b[43m.\u001b[49m\u001b[43mget\u001b[49m\u001b[43m(\u001b[49m\u001b[33;43m'\u001b[39;49m\u001b[33;43mfacecolor\u001b[39;49m\u001b[33;43m'\u001b[39;49m\u001b[43m,\u001b[49m\n\u001b[32m   1102\u001b[39m \u001b[43m                                       \u001b[49m\u001b[43mmpl\u001b[49m\u001b[43m.\u001b[49m\u001b[43mrcParams\u001b[49m\u001b[43m[\u001b[49m\u001b[33;43m'\u001b[39;49m\u001b[33;43msavefig.facecolor\u001b[39;49m\u001b[33;43m'\u001b[39;49m\u001b[43m]\u001b[49m\u001b[43m)\u001b[49m\n",
      "\u001b[36mFile \u001b[39m\u001b[32mc:\\Users\\main\\miniforge3\\Lib\\contextlib.py:137\u001b[39m, in \u001b[36m_GeneratorContextManager.__enter__\u001b[39m\u001b[34m(self)\u001b[39m\n\u001b[32m    135\u001b[39m \u001b[38;5;28;01mdel\u001b[39;00m \u001b[38;5;28mself\u001b[39m.args, \u001b[38;5;28mself\u001b[39m.kwds, \u001b[38;5;28mself\u001b[39m.func\n\u001b[32m    136\u001b[39m \u001b[38;5;28;01mtry\u001b[39;00m:\n\u001b[32m--> \u001b[39m\u001b[32m137\u001b[39m     \u001b[38;5;28;01mreturn\u001b[39;00m \u001b[38;5;28;43mnext\u001b[39;49m\u001b[43m(\u001b[49m\u001b[38;5;28;43mself\u001b[39;49m\u001b[43m.\u001b[49m\u001b[43mgen\u001b[49m\u001b[43m)\u001b[49m\n\u001b[32m    138\u001b[39m \u001b[38;5;28;01mexcept\u001b[39;00m \u001b[38;5;167;01mStopIteration\u001b[39;00m:\n\u001b[32m    139\u001b[39m     \u001b[38;5;28;01mraise\u001b[39;00m \u001b[38;5;167;01mRuntimeError\u001b[39;00m(\u001b[33m\"\u001b[39m\u001b[33mgenerator didn\u001b[39m\u001b[33m'\u001b[39m\u001b[33mt yield\u001b[39m\u001b[33m\"\u001b[39m) \u001b[38;5;28;01mfrom\u001b[39;00m\u001b[38;5;250m \u001b[39m\u001b[38;5;28;01mNone\u001b[39;00m\n",
      "\u001b[36mFile \u001b[39m\u001b[32mc:\\Users\\main\\miniforge3\\Lib\\site-packages\\matplotlib\\animation.py:221\u001b[39m, in \u001b[36mAbstractMovieWriter.saving\u001b[39m\u001b[34m(self, fig, outfile, dpi, *args, **kwargs)\u001b[39m\n\u001b[32m    216\u001b[39m     _log.info(\u001b[33m\"\u001b[39m\u001b[33mDisabling savefig.bbox = \u001b[39m\u001b[33m'\u001b[39m\u001b[33mtight\u001b[39m\u001b[33m'\u001b[39m\u001b[33m, as it may cause \u001b[39m\u001b[33m\"\u001b[39m\n\u001b[32m    217\u001b[39m               \u001b[33m\"\u001b[39m\u001b[33mframe size to vary, which is inappropriate for \u001b[39m\u001b[33m\"\u001b[39m\n\u001b[32m    218\u001b[39m               \u001b[33m\"\u001b[39m\u001b[33manimation.\u001b[39m\u001b[33m\"\u001b[39m)\n\u001b[32m    220\u001b[39m \u001b[38;5;66;03m# This particular sequence is what contextlib.contextmanager wants\u001b[39;00m\n\u001b[32m--> \u001b[39m\u001b[32m221\u001b[39m \u001b[38;5;28;43mself\u001b[39;49m\u001b[43m.\u001b[49m\u001b[43msetup\u001b[49m\u001b[43m(\u001b[49m\u001b[43mfig\u001b[49m\u001b[43m,\u001b[49m\u001b[43m \u001b[49m\u001b[43moutfile\u001b[49m\u001b[43m,\u001b[49m\u001b[43m \u001b[49m\u001b[43mdpi\u001b[49m\u001b[43m,\u001b[49m\u001b[43m \u001b[49m\u001b[43m*\u001b[49m\u001b[43margs\u001b[49m\u001b[43m,\u001b[49m\u001b[43m \u001b[49m\u001b[43m*\u001b[49m\u001b[43m*\u001b[49m\u001b[43mkwargs\u001b[49m\u001b[43m)\u001b[49m\n\u001b[32m    222\u001b[39m \u001b[38;5;28;01mwith\u001b[39;00m mpl.rc_context({\u001b[33m'\u001b[39m\u001b[33msavefig.bbox\u001b[39m\u001b[33m'\u001b[39m: \u001b[38;5;28;01mNone\u001b[39;00m}):\n\u001b[32m    223\u001b[39m     \u001b[38;5;28;01mtry\u001b[39;00m:\n",
      "\u001b[36mFile \u001b[39m\u001b[32mc:\\Users\\main\\miniforge3\\Lib\\site-packages\\matplotlib\\animation.py:487\u001b[39m, in \u001b[36mPillowWriter.setup\u001b[39m\u001b[34m(self, fig, outfile, dpi)\u001b[39m\n\u001b[32m    486\u001b[39m \u001b[38;5;28;01mdef\u001b[39;00m\u001b[38;5;250m \u001b[39m\u001b[34msetup\u001b[39m(\u001b[38;5;28mself\u001b[39m, fig, outfile, dpi=\u001b[38;5;28;01mNone\u001b[39;00m):\n\u001b[32m--> \u001b[39m\u001b[32m487\u001b[39m     \u001b[38;5;28;43msuper\u001b[39;49m\u001b[43m(\u001b[49m\u001b[43m)\u001b[49m\u001b[43m.\u001b[49m\u001b[43msetup\u001b[49m\u001b[43m(\u001b[49m\u001b[43mfig\u001b[49m\u001b[43m,\u001b[49m\u001b[43m \u001b[49m\u001b[43moutfile\u001b[49m\u001b[43m,\u001b[49m\u001b[43m \u001b[49m\u001b[43mdpi\u001b[49m\u001b[43m=\u001b[49m\u001b[43mdpi\u001b[49m\u001b[43m)\u001b[49m\n\u001b[32m    488\u001b[39m     \u001b[38;5;28mself\u001b[39m._frames = []\n",
      "\u001b[36mFile \u001b[39m\u001b[32mc:\\Users\\main\\miniforge3\\Lib\\site-packages\\matplotlib\\animation.py:168\u001b[39m, in \u001b[36mAbstractMovieWriter.setup\u001b[39m\u001b[34m(self, fig, outfile, dpi)\u001b[39m\n\u001b[32m    154\u001b[39m \u001b[38;5;250m\u001b[39m\u001b[33;03m\"\"\"\u001b[39;00m\n\u001b[32m    155\u001b[39m \u001b[33;03mSetup for writing the movie file.\u001b[39;00m\n\u001b[32m    156\u001b[39m \n\u001b[32m   (...)\u001b[39m\u001b[32m    165\u001b[39m \u001b[33;03m    in pixels of the resulting movie file.\u001b[39;00m\n\u001b[32m    166\u001b[39m \u001b[33;03m\"\"\"\u001b[39;00m\n\u001b[32m    167\u001b[39m \u001b[38;5;66;03m# Check that path is valid\u001b[39;00m\n\u001b[32m--> \u001b[39m\u001b[32m168\u001b[39m \u001b[43mPath\u001b[49m\u001b[43m(\u001b[49m\u001b[43moutfile\u001b[49m\u001b[43m)\u001b[49m\u001b[43m.\u001b[49m\u001b[43mparent\u001b[49m\u001b[43m.\u001b[49m\u001b[43mresolve\u001b[49m\u001b[43m(\u001b[49m\u001b[43mstrict\u001b[49m\u001b[43m=\u001b[49m\u001b[38;5;28;43;01mTrue\u001b[39;49;00m\u001b[43m)\u001b[49m\n\u001b[32m    169\u001b[39m \u001b[38;5;28mself\u001b[39m.outfile = outfile\n\u001b[32m    170\u001b[39m \u001b[38;5;28mself\u001b[39m.fig = fig\n",
      "\u001b[36mFile \u001b[39m\u001b[32mc:\\Users\\main\\miniforge3\\Lib\\pathlib.py:1240\u001b[39m, in \u001b[36mPath.resolve\u001b[39m\u001b[34m(self, strict)\u001b[39m\n\u001b[32m   1237\u001b[39m         \u001b[38;5;28;01mraise\u001b[39;00m \u001b[38;5;167;01mRuntimeError\u001b[39;00m(\u001b[33m\"\u001b[39m\u001b[33mSymlink loop from \u001b[39m\u001b[38;5;132;01m%r\u001b[39;00m\u001b[33m\"\u001b[39m % e.filename)\n\u001b[32m   1239\u001b[39m \u001b[38;5;28;01mtry\u001b[39;00m:\n\u001b[32m-> \u001b[39m\u001b[32m1240\u001b[39m     s = \u001b[38;5;28;43mself\u001b[39;49m\u001b[43m.\u001b[49m\u001b[43m_flavour\u001b[49m\u001b[43m.\u001b[49m\u001b[43mrealpath\u001b[49m\u001b[43m(\u001b[49m\u001b[38;5;28;43mself\u001b[39;49m\u001b[43m,\u001b[49m\u001b[43m \u001b[49m\u001b[43mstrict\u001b[49m\u001b[43m=\u001b[49m\u001b[43mstrict\u001b[49m\u001b[43m)\u001b[49m\n\u001b[32m   1241\u001b[39m \u001b[38;5;28;01mexcept\u001b[39;00m \u001b[38;5;167;01mOSError\u001b[39;00m \u001b[38;5;28;01mas\u001b[39;00m e:\n\u001b[32m   1242\u001b[39m     check_eloop(e)\n",
      "\u001b[36mFile \u001b[39m\u001b[32mc:\\Users\\main\\miniforge3\\Lib\\ntpath.py:727\u001b[39m, in \u001b[36mrealpath\u001b[39m\u001b[34m(path, strict)\u001b[39m\n\u001b[32m    725\u001b[39m     path = join(cwd, path)\n\u001b[32m    726\u001b[39m \u001b[38;5;28;01mtry\u001b[39;00m:\n\u001b[32m--> \u001b[39m\u001b[32m727\u001b[39m     path = \u001b[43m_getfinalpathname\u001b[49m\u001b[43m(\u001b[49m\u001b[43mpath\u001b[49m\u001b[43m)\u001b[49m\n\u001b[32m    728\u001b[39m     initial_winerror = \u001b[32m0\u001b[39m\n\u001b[32m    729\u001b[39m \u001b[38;5;28;01mexcept\u001b[39;00m \u001b[38;5;167;01mValueError\u001b[39;00m \u001b[38;5;28;01mas\u001b[39;00m ex:\n\u001b[32m    730\u001b[39m     \u001b[38;5;66;03m# gh-106242: Raised for embedded null characters\u001b[39;00m\n\u001b[32m    731\u001b[39m     \u001b[38;5;66;03m# In strict mode, we convert into an OSError.\u001b[39;00m\n\u001b[32m    732\u001b[39m     \u001b[38;5;66;03m# Non-strict mode returns the path as-is, since we've already\u001b[39;00m\n\u001b[32m    733\u001b[39m     \u001b[38;5;66;03m# made it absolute.\u001b[39;00m\n",
      "\u001b[31mFileNotFoundError\u001b[39m: [WinError 3] 지정된 경로를 찾을 수 없습니다: '\\\\mnt\\\\data'"
     ]
    },
    {
     "name": "stderr",
     "output_type": "stream",
     "text": [
      "c:\\Users\\main\\miniforge3\\Lib\\site-packages\\IPython\\core\\events.py:82: UserWarning: Glyph 54596 (\\N{HANGUL SYLLABLE PIL}) missing from font(s) DejaVu Sans.\n",
      "  func(*args, **kwargs)\n",
      "c:\\Users\\main\\miniforge3\\Lib\\site-packages\\IPython\\core\\events.py:82: UserWarning: Glyph 53552 (\\N{HANGUL SYLLABLE TEO}) missing from font(s) DejaVu Sans.\n",
      "  func(*args, **kwargs)\n",
      "c:\\Users\\main\\miniforge3\\Lib\\site-packages\\IPython\\core\\events.py:82: UserWarning: Glyph 44032 (\\N{HANGUL SYLLABLE GA}) missing from font(s) DejaVu Sans.\n",
      "  func(*args, **kwargs)\n",
      "c:\\Users\\main\\miniforge3\\Lib\\site-packages\\IPython\\core\\events.py:82: UserWarning: Glyph 51077 (\\N{HANGUL SYLLABLE IB}) missing from font(s) DejaVu Sans.\n",
      "  func(*args, **kwargs)\n",
      "c:\\Users\\main\\miniforge3\\Lib\\site-packages\\IPython\\core\\events.py:82: UserWarning: Glyph 47141 (\\N{HANGUL SYLLABLE RYEOG}) missing from font(s) DejaVu Sans.\n",
      "  func(*args, **kwargs)\n",
      "c:\\Users\\main\\miniforge3\\Lib\\site-packages\\IPython\\core\\events.py:82: UserWarning: Glyph 51012 (\\N{HANGUL SYLLABLE EUL}) missing from font(s) DejaVu Sans.\n",
      "  func(*args, **kwargs)\n",
      "c:\\Users\\main\\miniforge3\\Lib\\site-packages\\IPython\\core\\events.py:82: UserWarning: Glyph 49828 (\\N{HANGUL SYLLABLE SEU}) missing from font(s) DejaVu Sans.\n",
      "  func(*args, **kwargs)\n",
      "c:\\Users\\main\\miniforge3\\Lib\\site-packages\\IPython\\core\\events.py:82: UserWarning: Glyph 52884 (\\N{HANGUL SYLLABLE KAEN}) missing from font(s) DejaVu Sans.\n",
      "  func(*args, **kwargs)\n",
      "c:\\Users\\main\\miniforge3\\Lib\\site-packages\\IPython\\core\\events.py:82: UserWarning: Glyph 54616 (\\N{HANGUL SYLLABLE HA}) missing from font(s) DejaVu Sans.\n",
      "  func(*args, **kwargs)\n",
      "c:\\Users\\main\\miniforge3\\Lib\\site-packages\\IPython\\core\\events.py:82: UserWarning: Glyph 45716 (\\N{HANGUL SYLLABLE NEUN}) missing from font(s) DejaVu Sans.\n",
      "  func(*args, **kwargs)\n",
      "c:\\Users\\main\\miniforge3\\Lib\\site-packages\\IPython\\core\\events.py:82: UserWarning: Glyph 44284 (\\N{HANGUL SYLLABLE GWA}) missing from font(s) DejaVu Sans.\n",
      "  func(*args, **kwargs)\n",
      "c:\\Users\\main\\miniforge3\\Lib\\site-packages\\IPython\\core\\events.py:82: UserWarning: Glyph 51221 (\\N{HANGUL SYLLABLE JEONG}) missing from font(s) DejaVu Sans.\n",
      "  func(*args, **kwargs)\n",
      "c:\\Users\\main\\miniforge3\\Lib\\site-packages\\IPython\\core\\pylabtools.py:170: UserWarning: Glyph 54596 (\\N{HANGUL SYLLABLE PIL}) missing from font(s) DejaVu Sans.\n",
      "  fig.canvas.print_figure(bytes_io, **kw)\n",
      "c:\\Users\\main\\miniforge3\\Lib\\site-packages\\IPython\\core\\pylabtools.py:170: UserWarning: Glyph 53552 (\\N{HANGUL SYLLABLE TEO}) missing from font(s) DejaVu Sans.\n",
      "  fig.canvas.print_figure(bytes_io, **kw)\n",
      "c:\\Users\\main\\miniforge3\\Lib\\site-packages\\IPython\\core\\pylabtools.py:170: UserWarning: Glyph 44032 (\\N{HANGUL SYLLABLE GA}) missing from font(s) DejaVu Sans.\n",
      "  fig.canvas.print_figure(bytes_io, **kw)\n",
      "c:\\Users\\main\\miniforge3\\Lib\\site-packages\\IPython\\core\\pylabtools.py:170: UserWarning: Glyph 51077 (\\N{HANGUL SYLLABLE IB}) missing from font(s) DejaVu Sans.\n",
      "  fig.canvas.print_figure(bytes_io, **kw)\n",
      "c:\\Users\\main\\miniforge3\\Lib\\site-packages\\IPython\\core\\pylabtools.py:170: UserWarning: Glyph 47141 (\\N{HANGUL SYLLABLE RYEOG}) missing from font(s) DejaVu Sans.\n",
      "  fig.canvas.print_figure(bytes_io, **kw)\n",
      "c:\\Users\\main\\miniforge3\\Lib\\site-packages\\IPython\\core\\pylabtools.py:170: UserWarning: Glyph 51012 (\\N{HANGUL SYLLABLE EUL}) missing from font(s) DejaVu Sans.\n",
      "  fig.canvas.print_figure(bytes_io, **kw)\n",
      "c:\\Users\\main\\miniforge3\\Lib\\site-packages\\IPython\\core\\pylabtools.py:170: UserWarning: Glyph 49828 (\\N{HANGUL SYLLABLE SEU}) missing from font(s) DejaVu Sans.\n",
      "  fig.canvas.print_figure(bytes_io, **kw)\n",
      "c:\\Users\\main\\miniforge3\\Lib\\site-packages\\IPython\\core\\pylabtools.py:170: UserWarning: Glyph 52884 (\\N{HANGUL SYLLABLE KAEN}) missing from font(s) DejaVu Sans.\n",
      "  fig.canvas.print_figure(bytes_io, **kw)\n",
      "c:\\Users\\main\\miniforge3\\Lib\\site-packages\\IPython\\core\\pylabtools.py:170: UserWarning: Glyph 54616 (\\N{HANGUL SYLLABLE HA}) missing from font(s) DejaVu Sans.\n",
      "  fig.canvas.print_figure(bytes_io, **kw)\n",
      "c:\\Users\\main\\miniforge3\\Lib\\site-packages\\IPython\\core\\pylabtools.py:170: UserWarning: Glyph 45716 (\\N{HANGUL SYLLABLE NEUN}) missing from font(s) DejaVu Sans.\n",
      "  fig.canvas.print_figure(bytes_io, **kw)\n",
      "c:\\Users\\main\\miniforge3\\Lib\\site-packages\\IPython\\core\\pylabtools.py:170: UserWarning: Glyph 44284 (\\N{HANGUL SYLLABLE GWA}) missing from font(s) DejaVu Sans.\n",
      "  fig.canvas.print_figure(bytes_io, **kw)\n",
      "c:\\Users\\main\\miniforge3\\Lib\\site-packages\\IPython\\core\\pylabtools.py:170: UserWarning: Glyph 51221 (\\N{HANGUL SYLLABLE JEONG}) missing from font(s) DejaVu Sans.\n",
      "  fig.canvas.print_figure(bytes_io, **kw)\n"
     ]
    },
    {
     "data": {
      "image/png": "[encoded data removed]",
      "text/plain": [
       "<Figure size 600x500 with 1 Axes>"
      ]
     },
     "metadata": {},
     "output_type": "display_data"
    }
   ],
   "source": [
    "import matplotlib.pyplot as plt\n",
    "import matplotlib.patches as patches\n",
    "import matplotlib.animation as animation\n",
    "import numpy as np\n",
    "\n",
    "# 입력 데이터 크기 (패딩 포함)\n",
    "input_h, input_w = 10, 12\n",
    "filter_size = 2\n",
    "stride = 2\n",
    "\n",
    "# 전체 이미지 (배경용)\n",
    "input_img = np.ones((input_h, input_w))\n",
    "\n",
    "# 애니메이션 그림 설정\n",
    "fig, ax = plt.subplots(figsize=(6, 5))\n",
    "ax.set_xlim(0, input_w)\n",
    "ax.set_ylim(0, input_h)\n",
    "ax.set_xticks(np.arange(0, input_w + 1, 1))\n",
    "ax.set_yticks(np.arange(0, input_h + 1, 1))\n",
    "ax.grid(True)\n",
    "ax.invert_yaxis()\n",
    "rect = patches.Rectangle((0, 0), filter_size, filter_size, linewidth=2, edgecolor='red', facecolor='none')\n",
    "ax.add_patch(rect)\n",
    "ax.set_title(\"필터가 입력을 스캔하는 과정 (stride=2)\")\n",
    "\n",
    "# 필터가 이동할 위치 계산\n",
    "positions = []\n",
    "for i in range(0, input_h - filter_size + 1, stride):\n",
    "    for j in range(0, input_w - filter_size + 1, stride):\n",
    "        positions.append((j, i))  # (x, y)\n",
    "\n",
    "# 애니메이션 업데이트 함수\n",
    "def update(frame):\n",
    "    x, y = positions[frame]\n",
    "    rect.set_xy((x, y))\n",
    "    return rect,\n",
    "\n",
    "# 애니메이션 생성\n",
    "ani = animation.FuncAnimation(fig, update, frames=len(positions), interval=500, blit=True)\n",
    "\n",
    "# mp4로 저장 후 출력\n",
    "video_path = \"data/filter_stride2_animation.mp4\"\n",
    "ani.save(video_path, writer='ffmpeg', fps=2)\n",
    "plt.close()\n",
    "\n",
    "from IPython.display import Video\n",
    "Video(video_path, embed=True)\n"
   ]
  }
 ],
 "metadata": {
  "kernelspec": {
   "display_name": "PyTorch GPU (torch_py310)",
   "language": "python",
   "name": "torch_py310"
  },
  "language_info": {
   "codemirror_mode": {
    "name": "ipython",
    "version": 3
   },
   "file_extension": ".py",
   "mimetype": "text/x-python",
   "name": "python",
   "nbconvert_exporter": "python",
   "pygments_lexer": "ipython3",
   "version": "3.12.10"
  }
 },
 "nbformat": 4,
 "nbformat_minor": 5
}
