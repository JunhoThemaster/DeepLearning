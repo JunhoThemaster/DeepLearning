{
 "cells": [
  {
   "cell_type": "markdown",
   "id": "b4193ac2",
   "metadata": {},
   "source": [
    "Remove-Item -Recurse -Force .\\torch"
   ]
  },
  {
   "cell_type": "code",
   "execution_count": 2,
   "id": "766e9ac3",
   "metadata": {},
   "outputs": [
    {
     "name": "stderr",
     "output_type": "stream",
     "text": [
      "\n",
      "A module that was compiled using NumPy 1.x cannot be run in\n",
      "NumPy 2.2.6 as it may crash. To support both 1.x and 2.x\n",
      "versions of NumPy, modules must be compiled with NumPy 2.0.\n",
      "Some module may need to rebuild instead e.g. with 'pybind11>=2.12'.\n",
      "\n",
      "If you are a user of the module, the easiest solution will be to\n",
      "downgrade to 'numpy<2' or try to upgrade the affected module.\n",
      "We expect that some modules will need time to support NumPy 2.\n",
      "\n",
      "Traceback (most recent call last):  File \"c:\\Users\\main\\miniforge3\\Lib\\runpy.py\", line 198, in _run_module_as_main\n",
      "    return _run_code(code, main_globals, None,\n",
      "  File \"c:\\Users\\main\\miniforge3\\Lib\\runpy.py\", line 88, in _run_code\n",
      "    exec(code, run_globals)\n",
      "  File \"c:\\Users\\main\\miniforge3\\Lib\\site-packages\\ipykernel_launcher.py\", line 18, in <module>\n",
      "    app.launch_new_instance()\n",
      "  File \"c:\\Users\\main\\miniforge3\\Lib\\site-packages\\traitlets\\config\\application.py\", line 1075, in launch_instance\n",
      "    app.start()\n",
      "  File \"c:\\Users\\main\\miniforge3\\Lib\\site-packages\\ipykernel\\kernelapp.py\", line 739, in start\n",
      "    self.io_loop.start()\n",
      "  File \"c:\\Users\\main\\miniforge3\\Lib\\site-packages\\tornado\\platform\\asyncio.py\", line 211, in start\n",
      "    self.asyncio_loop.run_forever()\n",
      "  File \"c:\\Users\\main\\miniforge3\\Lib\\asyncio\\base_events.py\", line 645, in run_forever\n",
      "    self._run_once()\n",
      "  File \"c:\\Users\\main\\miniforge3\\Lib\\asyncio\\base_events.py\", line 1999, in _run_once\n",
      "    handle._run()\n",
      "  File \"c:\\Users\\main\\miniforge3\\Lib\\asyncio\\events.py\", line 88, in _run\n",
      "    self._context.run(self._callback, *self._args)\n",
      "  File \"c:\\Users\\main\\miniforge3\\Lib\\site-packages\\ipykernel\\kernelbase.py\", line 545, in dispatch_queue\n",
      "    await self.process_one()\n",
      "  File \"c:\\Users\\main\\miniforge3\\Lib\\site-packages\\ipykernel\\kernelbase.py\", line 534, in process_one\n",
      "    await dispatch(*args)\n",
      "  File \"c:\\Users\\main\\miniforge3\\Lib\\site-packages\\ipykernel\\kernelbase.py\", line 437, in dispatch_shell\n",
      "    await result\n",
      "  File \"c:\\Users\\main\\miniforge3\\Lib\\site-packages\\ipykernel\\ipkernel.py\", line 362, in execute_request\n",
      "    await super().execute_request(stream, ident, parent)\n",
      "  File \"c:\\Users\\main\\miniforge3\\Lib\\site-packages\\ipykernel\\kernelbase.py\", line 778, in execute_request\n",
      "    reply_content = await reply_content\n",
      "  File \"c:\\Users\\main\\miniforge3\\Lib\\site-packages\\ipykernel\\ipkernel.py\", line 449, in do_execute\n",
      "    res = shell.run_cell(\n",
      "  File \"c:\\Users\\main\\miniforge3\\Lib\\site-packages\\ipykernel\\zmqshell.py\", line 549, in run_cell\n",
      "    return super().run_cell(*args, **kwargs)\n",
      "  File \"c:\\Users\\main\\miniforge3\\Lib\\site-packages\\IPython\\core\\interactiveshell.py\", line 3100, in run_cell\n",
      "    result = self._run_cell(\n",
      "  File \"c:\\Users\\main\\miniforge3\\Lib\\site-packages\\IPython\\core\\interactiveshell.py\", line 3155, in _run_cell\n",
      "    result = runner(coro)\n",
      "  File \"c:\\Users\\main\\miniforge3\\Lib\\site-packages\\IPython\\core\\async_helpers.py\", line 128, in _pseudo_sync_runner\n",
      "    coro.send(None)\n",
      "  File \"c:\\Users\\main\\miniforge3\\Lib\\site-packages\\IPython\\core\\interactiveshell.py\", line 3367, in run_cell_async\n",
      "    has_raised = await self.run_ast_nodes(code_ast.body, cell_name,\n",
      "  File \"c:\\Users\\main\\miniforge3\\Lib\\site-packages\\IPython\\core\\interactiveshell.py\", line 3612, in run_ast_nodes\n",
      "    if await self.run_code(code, result, async_=asy):\n",
      "  File \"c:\\Users\\main\\miniforge3\\Lib\\site-packages\\IPython\\core\\interactiveshell.py\", line 3672, in run_code\n",
      "    exec(code_obj, self.user_global_ns, self.user_ns)\n",
      "  File \"C:\\Users\\main\\AppData\\Local\\Temp\\ipykernel_14816\\1575733229.py\", line 1, in <module>\n",
      "    import torch\n",
      "  File \"c:\\Users\\main\\miniforge3\\Lib\\site-packages\\torch\\__init__.py\", line 1477, in <module>\n",
      "    from .functional import *  # noqa: F403\n",
      "  File \"c:\\Users\\main\\miniforge3\\Lib\\site-packages\\torch\\functional.py\", line 9, in <module>\n",
      "    import torch.nn.functional as F\n",
      "  File \"c:\\Users\\main\\miniforge3\\Lib\\site-packages\\torch\\nn\\__init__.py\", line 1, in <module>\n",
      "    from .modules import *  # noqa: F403\n",
      "  File \"c:\\Users\\main\\miniforge3\\Lib\\site-packages\\torch\\nn\\modules\\__init__.py\", line 35, in <module>\n",
      "    from .transformer import TransformerEncoder, TransformerDecoder, \\\n",
      "  File \"c:\\Users\\main\\miniforge3\\Lib\\site-packages\\torch\\nn\\modules\\transformer.py\", line 20, in <module>\n",
      "    device: torch.device = torch.device(torch._C._get_default_device()),  # torch.device('cpu'),\n",
      "c:\\Users\\main\\miniforge3\\Lib\\site-packages\\torch\\nn\\modules\\transformer.py:20: UserWarning: Failed to initialize NumPy: _ARRAY_API not found (Triggered internally at C:\\cb\\pytorch_1000000000000\\work\\torch\\csrc\\utils\\tensor_numpy.cpp:84.)\n",
      "  device: torch.device = torch.device(torch._C._get_default_device()),  # torch.device('cpu'),\n"
     ]
    },
    {
     "name": "stdout",
     "output_type": "stream",
     "text": [
      "True\n",
      "12.1\n",
      "NVIDIA GeForce GTX 1660 Ti\n"
     ]
    }
   ],
   "source": [
    "import torch\n",
    "print(torch.cuda.is_available())           # True\n",
    "print(torch.version.cuda)                  # '12.1'\n",
    "print(torch.cuda.get_device_name(0))       # 'NVIDIA GeForce GTX 1660 Ti'\n"
   ]
  },
  {
   "cell_type": "code",
   "execution_count": 5,
   "id": "a350418a",
   "metadata": {},
   "outputs": [
    {
     "name": "stdout",
     "output_type": "stream",
     "text": [
      "c:\\Users\\main\\miniforge3\\envs\\torch_py310\\lib\\site-packages\\torch\\__init__.py\n"
     ]
    }
   ],
   "source": [
    "import torch\n",
    "print(torch.__file__)"
   ]
  },
  {
   "cell_type": "code",
   "execution_count": 10,
   "id": "f07edadb",
   "metadata": {},
   "outputs": [
    {
     "name": "stdout",
     "output_type": "stream",
     "text": [
      "cuda\n",
      "tensor([1, 2])\n"
     ]
    }
   ],
   "source": [
    "import torch\n",
    "\n",
    "device = 'cuda' if torch.cuda.is_available() else 'cpu'\n",
    "\n",
    "cpu_tensor = torch.tensor([1,2])\n",
    "\n",
    "\n",
    "gpu_tensor = cpu_tensor.to(device)\n",
    "\n",
    "print(device)\n",
    "print(cpu_tensor)"
   ]
  },
  {
   "cell_type": "code",
   "execution_count": 3,
   "id": "2adf5e24",
   "metadata": {},
   "outputs": [
    {
     "name": "stdout",
     "output_type": "stream",
     "text": [
      "100 0 ()\n"
     ]
    }
   ],
   "source": [
    "import numpy as np\n",
    "\n",
    "tensor_0d = np.array(100)\n",
    "\n",
    "print(tensor_0d,tensor_0d.ndim,tensor_0d.shape)"
   ]
  },
  {
   "cell_type": "code",
   "execution_count": 4,
   "id": "b20029e6",
   "metadata": {},
   "outputs": [
    {
     "name": "stdout",
     "output_type": "stream",
     "text": [
      "tensor([1, 2, 3])\n",
      "------------------------------\n",
      "1\n",
      "torch.Size([3])\n"
     ]
    }
   ],
   "source": [
    "import torch \n",
    "\n",
    "tensor_1d = torch.tensor([1,2,3])\n",
    "\n",
    "print(tensor_1d)\n",
    "print('-' *30 )\n",
    "\n",
    "print(tensor_1d.ndim)\n",
    "print(tensor_1d.shape)"
   ]
  },
  {
   "cell_type": "code",
   "execution_count": 5,
   "id": "3b96cff1",
   "metadata": {},
   "outputs": [
    {
     "name": "stdout",
     "output_type": "stream",
     "text": [
      "tensor([[1, 2, 3],\n",
      "        [1, 2, 3]])\n",
      "------------------------------\n",
      "2\n",
      "torch.Size([2, 3])\n"
     ]
    }
   ],
   "source": [
    "import torch \n",
    "\n",
    "tensor_2d = torch.tensor([[1,2,3],[1,2,3]])\n",
    "\n",
    "print(tensor_2d)\n",
    "print('-' *30 )\n",
    "\n",
    "print(tensor_2d.ndim)\n",
    "print(tensor_2d.shape)"
   ]
  },
  {
   "cell_type": "code",
   "execution_count": 6,
   "id": "e1052de2",
   "metadata": {},
   "outputs": [
    {
     "name": "stdout",
     "output_type": "stream",
     "text": [
      "tensor([[[1, 2, 3],\n",
      "         [1, 2, 3],\n",
      "         [1, 2, 3],\n",
      "         [1, 2, 3]]])\n",
      "------------------------------\n",
      "3\n",
      "torch.Size([1, 4, 3])\n"
     ]
    }
   ],
   "source": [
    "import torch \n",
    "\n",
    "tensor_3d = torch.tensor([[[1,2,3],[1,2,3],[1,2,3],[1,2,3]]])\n",
    "\n",
    "print(tensor_3d)\n",
    "print('-' *30 )\n",
    "\n",
    "print(tensor_3d.ndim)\n",
    "print(tensor_3d.shape)"
   ]
  },
  {
   "cell_type": "code",
   "execution_count": 7,
   "id": "e2dbd568",
   "metadata": {},
   "outputs": [
    {
     "name": "stdout",
     "output_type": "stream",
     "text": [
      "tensor([0, 1, 2, 3, 4])\n",
      "tensor([1, 2, 3, 4])\n",
      "tensor([1, 3])\n"
     ]
    }
   ],
   "source": [
    "import torch\n",
    "\n",
    "print(torch.arange(5))\n",
    "\n",
    "print(torch.arange(1,5))\n",
    "print(torch.arange(1,5,2))"
   ]
  },
  {
   "cell_type": "code",
   "execution_count": 8,
   "id": "4d3de70c",
   "metadata": {},
   "outputs": [
    {
     "name": "stdout",
     "output_type": "stream",
     "text": [
      "torch.Size([2, 3])\n",
      "torch.Size([3, 2])\n",
      "tensor([[1, 2],\n",
      "        [3, 4],\n",
      "        [5, 6]])\n"
     ]
    }
   ],
   "source": [
    "data1 = torch.tensor([[1,2,3],[4,5,6]])\n",
    "\n",
    "print(data1.shape)\n",
    "\n",
    "data2 = data1.reshape(3,2)\n",
    "print(data2.shape)\n",
    "\n",
    "data3 = data1.reshape(3, -1)\n",
    "\n",
    "print(data3)\n"
   ]
  },
  {
   "cell_type": "code",
   "execution_count": 11,
   "id": "1b27f9fb",
   "metadata": {},
   "outputs": [
    {
     "name": "stdout",
     "output_type": "stream",
     "text": [
      "torch.Size([2, 3])\n",
      "torch.Size([3, 2])\n",
      "tensor([[1, 2],\n",
      "        [3, 4],\n",
      "        [5, 6]])\n"
     ]
    }
   ],
   "source": [
    "data1 = torch.tensor([[1,2,3],[4,5,6]])\n",
    "\n",
    "print(data1.shape)\n",
    "\n",
    "data2 = data1.view(3,2)\n",
    "print(data2.shape)\n",
    "\n",
    "data3 = data1.view(3, -1)\n",
    "\n",
    "print(data3)"
   ]
  },
  {
   "cell_type": "markdown",
   "id": "a09c937d",
   "metadata": {},
   "source": [
    "## 차원 줄이기"
   ]
  },
  {
   "cell_type": "code",
   "execution_count": null,
   "id": "c0c96ab7",
   "metadata": {},
   "outputs": [
    {
     "name": "stdout",
     "output_type": "stream",
     "text": [
      "tensor([[1],\n",
      "        [2],\n",
      "        [3]]) torch.Size([3, 1]) 2\n",
      "tensor([1, 2, 3]) torch.Size([3]) 1\n",
      "tensor([[1, 2, 3]]) torch.Size([1, 3]) 2\n",
      "tensor([[1],\n",
      "        [2],\n",
      "        [3]]) torch.Size([3, 1]) 2\n"
     ]
    }
   ],
   "source": [
    "data1 = torch.tensor([[1],[2],[3]])\n",
    "\n",
    "print(data1,data1.shape,data1.dim())\n",
    "\n",
    "data2 = data1.squeeze()\n",
    "\n",
    "print(data2,data2.shape,data2.dim())\n",
    "\n",
    "\n",
    "data3 = data2.unsqueeze(0)\n",
    "print(data3,data3.shape,data3.dim())\n",
    "\n",
    "\n",
    "data4 = data2.unsqueeze(1)\n",
    "print(data4,data4.shape,data4.dim())\n"
   ]
  },
  {
   "cell_type": "markdown",
   "id": "11db1bac",
   "metadata": {},
   "source": [
    "# 형변환"
   ]
  },
  {
   "cell_type": "code",
   "execution_count": 28,
   "id": "917d030c",
   "metadata": {},
   "outputs": [
    {
     "name": "stdout",
     "output_type": "stream",
     "text": [
      "torch.int64\n",
      "torch.float32\n",
      "torch.float32\n",
      "torch.int32\n"
     ]
    }
   ],
   "source": [
    "data_int = torch.tensor([1,2,3])\n",
    "print(data_int.dtype)\n",
    "\n",
    "data_float = torch.tensor([1,2,3],dtype=torch.float)\n",
    "print(data_float.dtype)\n",
    "\n",
    "data2 = data_int.to(torch.float)\n",
    "\n",
    "data3 = data_float.to(torch.int)\n",
    "\n",
    "\n",
    "print(data2.dtype)\n",
    "print(data3.dtype)"
   ]
  },
  {
   "cell_type": "code",
   "execution_count": null,
   "id": "346f0739",
   "metadata": {},
   "outputs": [
    {
     "name": "stdout",
     "output_type": "stream",
     "text": [
      "tensor([6, 7, 8, 9])\n",
      "tensor([6, 7])\n"
     ]
    }
   ],
   "source": [
    "data5 = torch.tensor([[1,2,3],[4,5,6],[7,8,9]])\n",
    "\n",
    "\n",
    "print(data5[data5 > 5])\n",
    "\n",
    "print(data5[(data5 > 5) & (data5 < 8)])\n",
    "\n"
   ]
  },
  {
   "cell_type": "code",
   "execution_count": 49,
   "id": "88fff59c",
   "metadata": {},
   "outputs": [
    {
     "name": "stdout",
     "output_type": "stream",
     "text": [
      "tensor([[1, 2, 3],\n",
      "        [4, 5, 6]]) torch.Size([2, 3]) torch.int64 2\n",
      "tensor(2)\n",
      "tensor(5)\n",
      "tensor([1, 2])\n",
      "tensor([[1, 2],\n",
      "        [3, 4],\n",
      "        [5, 6]])\n",
      "tensor([[1, 2, 3],\n",
      "        [4, 5, 6]])\n"
     ]
    }
   ],
   "source": [
    "\n",
    "\n",
    "dim2 = torch.tensor([[1,2,3],[4,5,6]])\n",
    "\n",
    "\n",
    "print(dim2,dim2.shape,dim2.dtype,dim2.dim())\n",
    "\n",
    "\n",
    "# 두번째 행의 2번째 값\n",
    "dim2[1][1]\n",
    "\n",
    "# 모든 행의 2번째 열 출력\n",
    "print(dim2[0][1])\n",
    "print(dim2[1][1])\n",
    "\n",
    "# 첫 번째 행 첫번째 ~ 두번째 까지 슬라이싱\n",
    "\n",
    "print(dim2[0][:2])\n",
    "\n",
    "# 텐서를 다시 3,2 로 reshape\n",
    "\n",
    "dim2 = dim2.reshape(3,2)\n",
    "\n",
    "print(dim2)\n",
    "\n",
    "\n",
    "# 텐서를 다시 2 , -1 로 reshape\n",
    "\n",
    "dim2 = dim2.reshape(2,-1)\n",
    "\n",
    "print(dim2)"
   ]
  },
  {
   "cell_type": "code",
   "execution_count": 57,
   "id": "b91f0e22",
   "metadata": {},
   "outputs": [
    {
     "name": "stdout",
     "output_type": "stream",
     "text": [
      "torch.Size([3, 1])\n",
      "tensor([1, 2, 3])\n",
      "tensor([[1, 2, 3]])\n",
      "tensor([[1],\n",
      "        [2],\n",
      "        [3]])\n"
     ]
    },
    {
     "ename": "RuntimeError",
     "evalue": "mean(): could not infer output dtype. Input dtype must be either a floating point or complex dtype. Got: Long",
     "output_type": "error",
     "traceback": [
      "\u001b[31m---------------------------------------------------------------------------\u001b[39m",
      "\u001b[31mRuntimeError\u001b[39m                              Traceback (most recent call last)",
      "\u001b[36mCell\u001b[39m\u001b[36m \u001b[39m\u001b[32mIn[57]\u001b[39m\u001b[32m, line 21\u001b[39m\n\u001b[32m     17\u001b[39m \u001b[38;5;28mprint\u001b[39m(data_unsq_2)\n\u001b[32m     19\u001b[39m \u001b[38;5;66;03m# 정수형 텐서 mean()\u001b[39;00m\n\u001b[32m---> \u001b[39m\u001b[32m21\u001b[39m \u001b[43mdata_Sq\u001b[49m\u001b[43m.\u001b[49m\u001b[43mmean\u001b[49m\u001b[43m(\u001b[49m\u001b[43m)\u001b[49m\n",
      "\u001b[31mRuntimeError\u001b[39m: mean(): could not infer output dtype. Input dtype must be either a floating point or complex dtype. Got: Long"
     ]
    }
   ],
   "source": [
    "# 텐서를 만들고 squeeze 적용\n",
    "\n",
    "data = torch.tensor([[1],[2],[3]])\n",
    "\n",
    "print(data.shape)\n",
    "\n",
    "\n",
    "data_Sq = data.squeeze()\n",
    "\n",
    "print(data_Sq)\n",
    "\n",
    "\n",
    "data_unsq_1 = data_Sq.unsqueeze(0)\n",
    "print(data_unsq_1)\n",
    "\n",
    "data_unsq_2 = data_Sq.unsqueeze(1)\n",
    "print(data_unsq_2)\n",
    "\n",
    "# 정수형 텐서 mean()\n",
    "\n",
    "data_Sq.mean()\n"
   ]
  },
  {
   "cell_type": "code",
   "execution_count": 59,
   "id": "6689fba3",
   "metadata": {},
   "outputs": [
    {
     "data": {
      "text/plain": [
       "tensor(2., dtype=torch.float64)"
      ]
     },
     "execution_count": 59,
     "metadata": {},
     "output_type": "execute_result"
    }
   ],
   "source": [
    "# float 으로 변환후 mean 출력\n",
    "\n",
    "\n",
    "data_Sq = data_Sq.to(float)\n",
    "\n",
    "data_Sq.mean()"
   ]
  },
  {
   "cell_type": "code",
   "execution_count": 65,
   "id": "87d47230",
   "metadata": {},
   "outputs": [
    {
     "name": "stdout",
     "output_type": "stream",
     "text": [
      "tensor([5., 6., 7., 8., 9.], dtype=torch.float64)\n",
      "tensor([3., 4.], dtype=torch.float64)\n"
     ]
    }
   ],
   "source": [
    "float_tensor = torch.tensor([[1,2,3],[4,5,6],[7,8,9]])\n",
    "\n",
    "float_tensor = float_tensor.to(float)\n",
    "\n",
    "print(float_tensor[float_tensor > 4])\n",
    "\n",
    "print(float_tensor[(float_tensor < 5) & (float_tensor > 2)])\n"
   ]
  },
  {
   "cell_type": "code",
   "execution_count": 66,
   "id": "46f9e667",
   "metadata": {},
   "outputs": [
    {
     "name": "stdout",
     "output_type": "stream",
     "text": [
      "tensor([[1, 2, 3],\n",
      "        [4, 5, 6]])\n",
      "tensor([[1, 4],\n",
      "        [2, 5],\n",
      "        [3, 6]])\n"
     ]
    }
   ],
   "source": [
    "data = torch.tensor([[1,2,3],[4,5,6]])\n",
    "\n",
    "\n",
    "print(data)\n",
    "\n",
    "print(data.T)"
   ]
  },
  {
   "cell_type": "code",
   "execution_count": null,
   "id": "223d5a12",
   "metadata": {},
   "outputs": [
    {
     "name": "stdout",
     "output_type": "stream",
     "text": [
      "torch.Size([3, 2])\n",
      "torch.Size([2, 3])\n"
     ]
    }
   ],
   "source": [
    "data1 = torch.randn(3,2)\n",
    "\n",
    "data2 = torch.randn(2,3)\n",
    "print(data1.shape)\n",
    "print(data2.shape)\n",
    "\n",
    "\n",
    "print(dat)\n"
   ]
  },
  {
   "cell_type": "code",
   "execution_count": 70,
   "id": "4b632862",
   "metadata": {},
   "outputs": [
    {
     "name": "stdout",
     "output_type": "stream",
     "text": [
      "torch.Size([3, 3])\n",
      "torch.Size([3, 3])\n",
      "tensor([[ 0.0712, -0.7956, -3.4494],\n",
      "        [-0.4202,  1.3030, -0.8525],\n",
      "        [-3.1469,  0.7653,  0.4818]])\n",
      "tensor([[-1.7286,  0.1065,  2.9672],\n",
      "        [ 0.0223,  0.3973, -0.6671],\n",
      "        [ 2.4617, -0.6612, -0.1121]])\n",
      "tensor([[-1.0556,  3.6694,  0.9047],\n",
      "        [ 0.1747,  1.6771, -2.7221],\n",
      "        [ 1.1632, -0.4027, -0.2626]])\n"
     ]
    }
   ],
   "source": [
    "data1 = torch.randn(3,3)\n",
    "\n",
    "data2 = torch.randn(3,3)\n",
    "print(data1.shape)\n",
    "print(data2.shape)\n",
    "\n",
    "\n",
    "print(data1 + data2)\n",
    "print(data1 * data2)\n",
    "print(data1 / data2)\n"
   ]
  },
  {
   "cell_type": "code",
   "execution_count": 72,
   "id": "0d2ab43a",
   "metadata": {},
   "outputs": [
    {
     "name": "stdout",
     "output_type": "stream",
     "text": [
      "torch.Size([3, 3])\n",
      "torch.Size([3, 3])\n",
      "tensor([[ 0.1028,  0.2348, -0.4819],\n",
      "        [ 2.3737, -0.5259, -2.9013],\n",
      "        [-0.8192,  0.0650,  1.1624]])\n",
      "tensor([[ 0.1028,  0.2348, -0.4819],\n",
      "        [ 2.3737, -0.5259, -2.9013],\n",
      "        [-0.8192,  0.0650,  1.1624]])\n"
     ]
    }
   ],
   "source": [
    "data3 = torch.randn(3,2)\n",
    "\n",
    "data4 = torch.randn(2,3)\n",
    "print(data1.shape)\n",
    "print(data2.shape)\n",
    "\n",
    "\n",
    "print(data3 @ data4)\n",
    "\n",
    "print(torch.matmul(data3,data4))"
   ]
  },
  {
   "cell_type": "code",
   "execution_count": 74,
   "id": "b0449596",
   "metadata": {},
   "outputs": [
    {
     "data": {
      "text/plain": [
       "tensor([[-4, -4],\n",
       "        [-2, -1],\n",
       "        [ 6,  5]])"
      ]
     },
     "execution_count": 74,
     "metadata": {},
     "output_type": "execute_result"
    }
   ],
   "source": [
    "data1 = torch.tensor([[0,1],[2,4],[10,10]])\n",
    "\n",
    "data2 = torch.tensor([4,5])\n",
    "\n",
    "data1 - data2 "
   ]
  },
  {
   "cell_type": "code",
   "execution_count": 84,
   "id": "7b685d53",
   "metadata": {},
   "outputs": [
    {
     "name": "stdout",
     "output_type": "stream",
     "text": [
      "tensor([[[0.1219, 0.0356, 0.2789, 0.0506, 0.7704]],\n",
      "\n",
      "        [[0.9252, 0.4533, 0.8787, 0.3151, 0.0610]],\n",
      "\n",
      "        [[0.8183, 0.1264, 0.9333, 0.4363, 0.1947]],\n",
      "\n",
      "        [[0.0898, 0.2958, 0.4242, 0.6399, 0.3021]],\n",
      "\n",
      "        [[0.9604, 0.7592, 0.6579, 0.3862, 0.9872]],\n",
      "\n",
      "        [[0.9998, 0.3148, 0.4688, 0.1247, 0.8373]],\n",
      "\n",
      "        [[0.4660, 0.4829, 0.6851, 0.1249, 0.4633]],\n",
      "\n",
      "        [[0.2585, 0.7717, 0.9564, 0.4571, 0.1350]],\n",
      "\n",
      "        [[0.1301, 0.4444, 0.0719, 0.4373, 0.3868]],\n",
      "\n",
      "        [[0.1599, 0.3145, 0.9887, 0.7863, 0.5229]]])\n",
      "tensor([[[-0.4024, -0.4887, -0.2454, -0.4737,  0.2462],\n",
      "         [-0.0499, -0.1362,  0.1071, -0.1212,  0.5986]],\n",
      "\n",
      "        [[-0.0697, -0.5416, -0.1162, -0.6799, -0.9339],\n",
      "         [ 0.6845,  0.2126,  0.6380,  0.0743, -0.1797]],\n",
      "\n",
      "        [[ 0.4030, -0.2889,  0.5180,  0.0210, -0.2206],\n",
      "         [ 0.1378, -0.5542,  0.2528, -0.2443, -0.4859]],\n",
      "\n",
      "        [[-0.5169, -0.3109, -0.1825,  0.0332, -0.3046],\n",
      "         [-0.6932, -0.4872, -0.3588, -0.1431, -0.4809]],\n",
      "\n",
      "        [[ 0.3895,  0.1884,  0.0870, -0.1846,  0.4164],\n",
      "         [ 0.7901,  0.5889,  0.4876,  0.2159,  0.8169]],\n",
      "\n",
      "        [[ 0.6295, -0.0554,  0.0985, -0.2456,  0.4670],\n",
      "         [ 0.3973, -0.2876, -0.1337, -0.4778,  0.2348]],\n",
      "\n",
      "        [[-0.4928, -0.4759, -0.2736, -0.8338, -0.4955],\n",
      "         [ 0.4259,  0.4428,  0.6451,  0.0849,  0.4232]],\n",
      "\n",
      "        [[ 0.1157,  0.6288,  0.8135,  0.3143, -0.0078],\n",
      "         [-0.0337,  0.4795,  0.6642,  0.1649, -0.1572]],\n",
      "\n",
      "        [[-0.3614, -0.0471, -0.4196, -0.0542, -0.1047],\n",
      "         [-0.1126,  0.2017, -0.1708,  0.1946,  0.1441]],\n",
      "\n",
      "        [[ 0.0486,  0.2033,  0.8775,  0.6751,  0.4117],\n",
      "         [-0.1636, -0.0089,  0.6653,  0.4629,  0.1995]]]) torch.Size([10, 2, 5]) 3\n"
     ]
    }
   ],
   "source": [
    "data1 = torch.rand(10,1,5) # 1 X 5 10겹\n",
    "data2 = torch.rand(10,2,1) # 2 X 1 10겹\n",
    "data3 = data1 - data2\n",
    "\n",
    "print(data1)\n",
    "\n",
    "\n",
    "print(data3,data3.shape,data3.dim())"
   ]
  },
  {
   "cell_type": "code",
   "execution_count": null,
   "id": "523a2492",
   "metadata": {},
   "outputs": [
    {
     "name": "stdout",
     "output_type": "stream",
     "text": [
      "tensor([[[5.9395e-01],\n",
      "         [8.6354e-01],\n",
      "         [6.7319e-01],\n",
      "         [8.0491e-02],\n",
      "         [8.7101e-02],\n",
      "         [4.1940e-02],\n",
      "         [5.5753e-01],\n",
      "         [6.8212e-01],\n",
      "         [1.8981e-02],\n",
      "         [7.3410e-03]],\n",
      "\n",
      "        [[4.8825e-01],\n",
      "         [9.2704e-01],\n",
      "         [2.9658e-01],\n",
      "         [4.3779e-01],\n",
      "         [9.9956e-01],\n",
      "         [8.5193e-01],\n",
      "         [1.3046e-01],\n",
      "         [1.3745e-01],\n",
      "         [2.8551e-01],\n",
      "         [5.8978e-01]],\n",
      "\n",
      "        [[9.5519e-01],\n",
      "         [8.3734e-01],\n",
      "         [1.9693e-01],\n",
      "         [6.2545e-02],\n",
      "         [9.3078e-01],\n",
      "         [5.2355e-01],\n",
      "         [6.0523e-04],\n",
      "         [3.2672e-01],\n",
      "         [7.1510e-01],\n",
      "         [5.7668e-01]],\n",
      "\n",
      "        [[7.9829e-01],\n",
      "         [4.9468e-01],\n",
      "         [2.5460e-01],\n",
      "         [6.7095e-01],\n",
      "         [3.9029e-01],\n",
      "         [1.7296e-01],\n",
      "         [6.0421e-01],\n",
      "         [6.1077e-01],\n",
      "         [7.2789e-01],\n",
      "         [7.3489e-01]],\n",
      "\n",
      "        [[3.8336e-01],\n",
      "         [9.4597e-01],\n",
      "         [5.6589e-01],\n",
      "         [2.6295e-01],\n",
      "         [4.9291e-01],\n",
      "         [3.5858e-01],\n",
      "         [8.5757e-02],\n",
      "         [5.5368e-01],\n",
      "         [1.2309e-01],\n",
      "         [8.5816e-01]],\n",
      "\n",
      "        [[7.4654e-01],\n",
      "         [4.9594e-01],\n",
      "         [8.9101e-01],\n",
      "         [4.8601e-01],\n",
      "         [5.9406e-01],\n",
      "         [3.6510e-01],\n",
      "         [2.5985e-01],\n",
      "         [4.4612e-01],\n",
      "         [5.8095e-01],\n",
      "         [3.9059e-01]],\n",
      "\n",
      "        [[5.7543e-01],\n",
      "         [5.3699e-01],\n",
      "         [6.7846e-01],\n",
      "         [5.1713e-02],\n",
      "         [4.7006e-02],\n",
      "         [5.8889e-01],\n",
      "         [1.1221e-01],\n",
      "         [2.8990e-01],\n",
      "         [9.1049e-01],\n",
      "         [3.8983e-01]],\n",
      "\n",
      "        [[8.4314e-01],\n",
      "         [9.9130e-01],\n",
      "         [1.9841e-01],\n",
      "         [4.8673e-01],\n",
      "         [9.5150e-01],\n",
      "         [1.3565e-01],\n",
      "         [6.4197e-02],\n",
      "         [7.0031e-01],\n",
      "         [3.1608e-01],\n",
      "         [4.9045e-01]],\n",
      "\n",
      "        [[8.9590e-01],\n",
      "         [8.4511e-01],\n",
      "         [3.0775e-01],\n",
      "         [4.4918e-01],\n",
      "         [1.7404e-01],\n",
      "         [9.3556e-01],\n",
      "         [2.5971e-01],\n",
      "         [3.2221e-02],\n",
      "         [5.3973e-01],\n",
      "         [3.8253e-01]],\n",
      "\n",
      "        [[9.2417e-01],\n",
      "         [8.1703e-01],\n",
      "         [5.3313e-01],\n",
      "         [3.0923e-01],\n",
      "         [3.1411e-01],\n",
      "         [3.7703e-01],\n",
      "         [3.1647e-01],\n",
      "         [5.5516e-01],\n",
      "         [1.2507e-02],\n",
      "         [8.9783e-01]]]) torch.Size([10, 10, 1]) 3\n"
     ]
    }
   ],
   "source": [
    "data1 = torch.rand(5)\n",
    "\n",
    "data2 = torch.rand(10,10,1)\n",
    "\n",
    "\n",
    "print(data2,data2.shape,data2.dim())\n",
    "\n"
   ]
  },
  {
   "cell_type": "markdown",
   "id": "bd423232",
   "metadata": {},
   "source": [
    "# 얕은복사"
   ]
  },
  {
   "cell_type": "code",
   "execution_count": 95,
   "id": "debcdcd3",
   "metadata": {},
   "outputs": [
    {
     "name": "stdout",
     "output_type": "stream",
     "text": [
      "tensor([1, 2])\n"
     ]
    },
    {
     "data": {
      "text/plain": [
       "tensor([[2, 3, 3],\n",
       "        [4, 5, 6]])"
      ]
     },
     "execution_count": 95,
     "metadata": {},
     "output_type": "execute_result"
    }
   ],
   "source": [
    "data1 = torch.tensor([[1,2,3],[4,5,6]])\n",
    "\n",
    "\n",
    "data2 = data1[:2,:2]\n",
    "\n",
    "data2\n",
    "\n",
    "print(data2[0])\n",
    "\n",
    "data2[0] = torch.tensor([2,3])\n",
    "\n",
    "data2\n",
    "\n",
    "data1"
   ]
  },
  {
   "cell_type": "code",
   "execution_count": null,
   "id": "97d10b43",
   "metadata": {},
   "outputs": [
    {
     "name": "stdout",
     "output_type": "stream",
     "text": [
      "tensor([1, 2])\n"
     ]
    },
    {
     "data": {
      "text/plain": [
       "tensor([[1, 2, 3],\n",
       "        [4, 5, 6]])"
      ]
     },
     "execution_count": 96,
     "metadata": {},
     "output_type": "execute_result"
    }
   ],
   "source": [
    "data1 = torch.tensor([[1,2,3],[4,5,6]])\n",
    "\n",
    "\n",
    "data2 = data1[:2,:2].clone().detach()\n",
    "\n",
    "data2\n",
    "\n",
    "print(data2[0])\n",
    "\n",
    "data2[0] = torch.tensor([2,3])\n",
    "\n",
    "data2\n",
    "\n",
    "data1"
   ]
  },
  {
   "cell_type": "markdown",
   "id": "bfb0082c",
   "metadata": {},
   "source": [
    "# 텐서 저장"
   ]
  },
  {
   "cell_type": "code",
   "execution_count": 97,
   "id": "40b6c993",
   "metadata": {},
   "outputs": [
    {
     "name": "stdout",
     "output_type": "stream",
     "text": [
      "tensor([1, 2, 3])\n"
     ]
    }
   ],
   "source": [
    "data1 = torch.tensor([1,2,3])\n",
    "print (data1)\n",
    "torch.save(data1, 'data.pt')"
   ]
  },
  {
   "cell_type": "code",
   "execution_count": null,
   "id": "c252e88b",
   "metadata": {},
   "outputs": [
    {
     "data": {
      "text/plain": [
       "tensor([1, 2, 3])"
      ]
     },
     "execution_count": 98,
     "metadata": {},
     "output_type": "execute_result"
    }
   ],
   "source": [
    "data2 = torch.load('data.pt')\n",
    "\n",
    "\n",
    "data2"
   ]
  },
  {
   "cell_type": "code",
   "execution_count": 99,
   "id": "1a56e7a5",
   "metadata": {},
   "outputs": [],
   "source": [
    "data1 = torch.tensor([1,2,3])\n",
    "data2 = torch.tensor([4,5,6])\n",
    "data3 = torch.tensor([7,8,9])\n",
    "\n",
    "\n",
    "datas = {'data1':data1,'data2':data2,'data3':data3}\n",
    "torch.save(datas,'datas.pt')"
   ]
  },
  {
   "cell_type": "code",
   "execution_count": 110,
   "id": "014186ed",
   "metadata": {},
   "outputs": [
    {
     "name": "stdout",
     "output_type": "stream",
     "text": [
      "tensor([[1, 4],\n",
      "        [2, 5],\n",
      "        [3, 6]])\n",
      "tensor(3.5000)\n",
      "tensor(1.8708)\n",
      "tensor(6.)\n"
     ]
    }
   ],
   "source": [
    "data = torch.tensor([[1.,2.],[3.,4.]])\n",
    "\n",
    "\n",
    "# 전치행렬\n",
    "\n",
    "data1 = torch.tensor([[1,2,3],[4,5,6]])\n",
    "print(data1.T)\n",
    "\n",
    "# 브로드캐스팅 연산\n",
    "data2 = torch.tensor([[0,1],[2,4],[10,10]])\n",
    "\n",
    "data3 = torch.tensor([4,5])\n",
    "\n",
    "data2 + data3\n",
    "\n",
    "# 통계량 계산\n",
    "\n",
    "data4 = torch.tensor([[1.,2.,3.],[4.,5.,6.]])\n",
    "\n",
    "print(data4.mean())\n",
    "print(data4.std())\n",
    "print(data4.max())\n",
    "\n",
    "\n",
    "\n",
    "# 저장 및 불러오기 \n",
    "\n",
    "data5 = torch.linspace(1,5,4)\n",
    "\n",
    "torch.save(data5,'data5.pt')\n",
    "\n"
   ]
  },
  {
   "cell_type": "markdown",
   "id": "5f89b761",
   "metadata": {},
   "source": [
    "# 1D x 1D"
   ]
  },
  {
   "cell_type": "code",
   "execution_count": 114,
   "id": "c1b7e3ef",
   "metadata": {},
   "outputs": [
    {
     "data": {
      "text/plain": [
       "tensor(18)"
      ]
     },
     "execution_count": 114,
     "metadata": {},
     "output_type": "execute_result"
    }
   ],
   "source": [
    "A = torch.full((3,),2)\n",
    "B = torch.full((3,),3)\n",
    "\n",
    "\n",
    "# 2x3,2x3,2x3\n",
    "torch.matmul(A,B)\n",
    "\n",
    "\n"
   ]
  },
  {
   "cell_type": "markdown",
   "id": "8b5a02f7",
   "metadata": {},
   "source": [
    "# 2D x 2D"
   ]
  },
  {
   "cell_type": "code",
   "execution_count": 119,
   "id": "54896dfa",
   "metadata": {},
   "outputs": [
    {
     "name": "stdout",
     "output_type": "stream",
     "text": [
      "tensor([[2, 2],\n",
      "        [2, 2],\n",
      "        [2, 2]])\n"
     ]
    },
    {
     "data": {
      "text/plain": [
       "tensor([[12, 12, 12],\n",
       "        [12, 12, 12],\n",
       "        [12, 12, 12]])"
      ]
     },
     "execution_count": 119,
     "metadata": {},
     "output_type": "execute_result"
    }
   ],
   "source": [
    "A = torch.full((3,2),2)\n",
    "B = torch.full((2,3),3)\n",
    "\n",
    "print(A)\n",
    "# 2x3,2x3,2x3\n",
    "torch.matmul(A,B)\n",
    "\n",
    "\n",
    "\n"
   ]
  },
  {
   "cell_type": "code",
   "execution_count": 120,
   "id": "b751b9d3",
   "metadata": {},
   "outputs": [
    {
     "name": "stdout",
     "output_type": "stream",
     "text": [
      "tensor([2, 2, 2])\n"
     ]
    },
    {
     "ename": "RuntimeError",
     "evalue": "mat1 and mat2 shapes cannot be multiplied (1x3 and 2x3)",
     "output_type": "error",
     "traceback": [
      "\u001b[31m---------------------------------------------------------------------------\u001b[39m",
      "\u001b[31mRuntimeError\u001b[39m                              Traceback (most recent call last)",
      "\u001b[36mCell\u001b[39m\u001b[36m \u001b[39m\u001b[32mIn[120]\u001b[39m\u001b[32m, line 8\u001b[39m\n\u001b[32m      6\u001b[39m \u001b[38;5;28mprint\u001b[39m(A)\n\u001b[32m      7\u001b[39m \u001b[38;5;66;03m# 2x3,2x3,2x3\u001b[39;00m\n\u001b[32m----> \u001b[39m\u001b[32m8\u001b[39m \u001b[43mtorch\u001b[49m\u001b[43m.\u001b[49m\u001b[43mmatmul\u001b[49m\u001b[43m(\u001b[49m\u001b[43mA\u001b[49m\u001b[43m,\u001b[49m\u001b[43mB\u001b[49m\u001b[43m)\u001b[49m\n",
      "\u001b[31mRuntimeError\u001b[39m: mat1 and mat2 shapes cannot be multiplied (1x3 and 2x3)"
     ]
    }
   ],
   "source": [
    "# 1D X 2D\n",
    "\n",
    "A = torch.full((3,),2)\n",
    "B = torch.full((2,3),3)\n",
    "\n",
    "print(A)\n",
    "# 2x3,2x3,2x3\n",
    "torch.matmul(A,B)\n",
    "\n",
    "\n",
    "\n"
   ]
  },
  {
   "cell_type": "code",
   "execution_count": 126,
   "id": "9e644f42",
   "metadata": {},
   "outputs": [
    {
     "name": "stdout",
     "output_type": "stream",
     "text": [
      "tensor([[[2, 2, 2, 2],\n",
      "         [2, 2, 2, 2],\n",
      "         [2, 2, 2, 2]],\n",
      "\n",
      "        [[2, 2, 2, 2],\n",
      "         [2, 2, 2, 2],\n",
      "         [2, 2, 2, 2]],\n",
      "\n",
      "        [[2, 2, 2, 2],\n",
      "         [2, 2, 2, 2],\n",
      "         [2, 2, 2, 2]]]) tensor([[[2, 2, 2, 2, 2],\n",
      "         [2, 2, 2, 2, 2],\n",
      "         [2, 2, 2, 2, 2],\n",
      "         [2, 2, 2, 2, 2]],\n",
      "\n",
      "        [[2, 2, 2, 2, 2],\n",
      "         [2, 2, 2, 2, 2],\n",
      "         [2, 2, 2, 2, 2],\n",
      "         [2, 2, 2, 2, 2]],\n",
      "\n",
      "        [[2, 2, 2, 2, 2],\n",
      "         [2, 2, 2, 2, 2],\n",
      "         [2, 2, 2, 2, 2],\n",
      "         [2, 2, 2, 2, 2]]])\n"
     ]
    },
    {
     "data": {
      "text/plain": [
       "tensor([[[16, 16, 16, 16, 16],\n",
       "         [16, 16, 16, 16, 16],\n",
       "         [16, 16, 16, 16, 16]],\n",
       "\n",
       "        [[16, 16, 16, 16, 16],\n",
       "         [16, 16, 16, 16, 16],\n",
       "         [16, 16, 16, 16, 16]],\n",
       "\n",
       "        [[16, 16, 16, 16, 16],\n",
       "         [16, 16, 16, 16, 16],\n",
       "         [16, 16, 16, 16, 16]]])"
      ]
     },
     "execution_count": 126,
     "metadata": {},
     "output_type": "execute_result"
    }
   ],
   "source": [
    "data1 = torch.full((3,3,4),2) # 2로 이루어진 3x4 rk 3겹(batch)\n",
    "\n",
    "data2 = torch.full((3,4,5),2) # 2로 이루어진 4x5 가 3겹(batch)\n",
    "\n",
    "print(data1 ,data2)\n",
    "\n",
    "torch.bmm(data1,data2)"
   ]
  },
  {
   "cell_type": "code",
   "execution_count": 127,
   "id": "26806a98",
   "metadata": {},
   "outputs": [
    {
     "data": {
      "text/plain": [
       "tensor(18)"
      ]
     },
     "execution_count": 127,
     "metadata": {},
     "output_type": "execute_result"
    }
   ],
   "source": [
    "dim1 = torch.full((3,),2)\n",
    "dim2 = torch.full((3,),3)\n",
    "\n",
    "torch.matmul(dim1,dim2)\n",
    "\n",
    "\n"
   ]
  },
  {
   "cell_type": "code",
   "execution_count": 136,
   "id": "cc0c5439",
   "metadata": {},
   "outputs": [
    {
     "name": "stdout",
     "output_type": "stream",
     "text": [
      "torch.Size([3, 3])\n"
     ]
    }
   ],
   "source": [
    "dim1 = torch.full((3,2),2)\n",
    "dim2 = torch.full((2,3),3)\n",
    "\n",
    "\n",
    "result = dim1 @ dim2\n",
    "\n",
    "\n",
    "print(result.shape)\n",
    "\n"
   ]
  },
  {
   "cell_type": "code",
   "execution_count": 139,
   "id": "c79933be",
   "metadata": {},
   "outputs": [
    {
     "name": "stdout",
     "output_type": "stream",
     "text": [
      "torch.Size([2])\n"
     ]
    }
   ],
   "source": [
    "dim1 = torch.full((3,),2)\n",
    "dim2 = torch.full((3,2),3)\n",
    "\n",
    "res = torch.matmul(dim1,dim2)\n",
    "\n",
    "print(res.shape)"
   ]
  },
  {
   "cell_type": "code",
   "execution_count": 142,
   "id": "72f98064",
   "metadata": {},
   "outputs": [
    {
     "name": "stdout",
     "output_type": "stream",
     "text": [
      "torch.Size([4, 2])\n"
     ]
    }
   ],
   "source": [
    "dim1 = torch.full((3,),2)\n",
    "dim2 = torch.full((4,3,2),3)\n",
    "\n",
    "res = torch.matmul(dim1,dim2)\n",
    "\n",
    "print(res.shape)"
   ]
  },
  {
   "cell_type": "code",
   "execution_count": null,
   "id": "b2b7020a",
   "metadata": {},
   "outputs": [
    {
     "name": "stdout",
     "output_type": "stream",
     "text": [
      "tensor([2, 2])\n",
      "tensor([[[3, 3],\n",
      "         [3, 3],\n",
      "         [3, 3]],\n",
      "\n",
      "        [[3, 3],\n",
      "         [3, 3],\n",
      "         [3, 3]],\n",
      "\n",
      "        [[3, 3],\n",
      "         [3, 3],\n",
      "         [3, 3]],\n",
      "\n",
      "        [[3, 3],\n",
      "         [3, 3],\n",
      "         [3, 3]]])\n",
      "torch.Size([4, 3]) tensor([[12, 12, 12],\n",
      "        [12, 12, 12],\n",
      "        [12, 12, 12],\n",
      "        [12, 12, 12]])\n"
     ]
    }
   ],
   "source": [
    "dim1 = torch.full((2,),2)\n",
    "dim2 = torch.full((4,3,2),3)\n",
    "\n",
    "print(dim1)\n",
    "print(dim2)\n",
    "\n",
    "res = torch.matmul(dim2,dim1)\n",
    "\n",
    "print(res.shape,res)"
   ]
  },
  {
   "cell_type": "code",
   "execution_count": 150,
   "id": "a6a4c4e0",
   "metadata": {},
   "outputs": [
    {
     "name": "stdout",
     "output_type": "stream",
     "text": [
      "tensor([[2, 2, 2, 2],\n",
      "        [2, 2, 2, 2],\n",
      "        [2, 2, 2, 2]]) tensor([[3, 3, 3, 3, 3],\n",
      "        [3, 3, 3, 3, 3],\n",
      "        [3, 3, 3, 3, 3],\n",
      "        [3, 3, 3, 3, 3]])\n"
     ]
    },
    {
     "data": {
      "text/plain": [
       "tensor([[24, 24, 24, 24, 24],\n",
       "        [24, 24, 24, 24, 24],\n",
       "        [24, 24, 24, 24, 24]])"
      ]
     },
     "execution_count": 150,
     "metadata": {},
     "output_type": "execute_result"
    }
   ],
   "source": [
    "A = torch.full((3,4),2)\n",
    "B = torch.full((4,5),3)\n",
    "print(A,B)\n",
    "torch.mm(A,B)"
   ]
  },
  {
   "cell_type": "code",
   "execution_count": null,
   "id": "ffb31168",
   "metadata": {},
   "outputs": [],
   "source": []
  }
 ],
 "metadata": {
  "kernelspec": {
   "display_name": "PyTorch GPU (torch_py310)",
   "language": "python",
   "name": "torch_py310"
  },
  "language_info": {
   "codemirror_mode": {
    "name": "ipython",
    "version": 3
   },
   "file_extension": ".py",
   "mimetype": "text/x-python",
   "name": "python",
   "nbconvert_exporter": "python",
   "pygments_lexer": "ipython3",
   "version": "3.12.10"
  }
 },
 "nbformat": 4,
 "nbformat_minor": 5
}
